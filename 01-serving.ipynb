{
 "cells": [
  {
   "cell_type": "markdown",
   "id": "3bdd16a4",
   "metadata": {},
   "source": [
    "# Application Serving Pipeline\n",
    "\n",
    "This notebook demonstrate how to serve standard ML/DL models using **MLRun Serving**.\n",
    "\n",
    "Make sure you went over the basics in MLRun [**Quick Start Tutorial**](./01-mlrun-basics.html).\n",
    "\n",
    "\n",
    "MLRun serving can produce managed real-time serverless pipelines from various tasks, including MLRun models or standard model files.\n",
    "The pipelines use the Nuclio real-time serverless engine, which can be deployed anywhere.\n",
    "[Nuclio](https://nuclio.io/) is a high-performance open-source \"serverless\" framework that's focused on data, I/O, and compute-intensive workloads.\n",
    "\n",
    "\n",
    "MLRun serving supports advanced real-time data processing and model serving pipelines.<br>\n",
    "For more details and examples, see the {ref}`MLRun serving pipelines <serving>` documentation.\n",
    "\n",
    "Tutorial steps:\n",
    "- [**Create, test and build advanced model Serving Graph**](#serving-function)\n",
    "- [**Deploy the serving Function**](#deploy-serving)"
   ]
  },
  {
   "cell_type": "code",
   "execution_count": 23,
   "id": "a3c35bf3",
   "metadata": {
    "scrolled": true
   },
   "outputs": [
    {
     "name": "stdout",
     "output_type": "stream",
     "text": [
      "Collecting mlrun==1.3.0rc14\n",
      "  Downloading mlrun-1.3.0rc14-py3-none-any.whl (1.1 MB)\n",
      "\u001b[K     |████████████████████████████████| 1.1 MB 16.0 MB/s eta 0:00:01\n",
      "\u001b[?25hRequirement already satisfied: gradio in /User/.pythonlibs/jupyter-davids/lib/python3.7/site-packages (from -r requirements.txt (line 2)) (3.16.2)\n",
      "Requirement already satisfied: transformers~=4.26.0 in /User/.pythonlibs/jupyter-davids/lib/python3.7/site-packages (from -r requirements.txt (line 3)) (4.26.0)\n",
      "Requirement already satisfied: kfp~=1.8.13 in /User/.pythonlibs/jupyter-davids/lib/python3.7/site-packages (from -r requirements.txt (line 4)) (1.8.13)\n",
      "Requirement already satisfied: numpy~=1.21.6 in /User/.pythonlibs/jupyter-davids/lib/python3.7/site-packages (from -r requirements.txt (line 5)) (1.21.6)\n",
      "Requirement already satisfied: pandas~=1.3.5 in /User/.pythonlibs/jupyter-davids/lib/python3.7/site-packages (from -r requirements.txt (line 6)) (1.3.5)\n",
      "Collecting setuptools~=57.0.0\n",
      "  Downloading setuptools-57.0.0-py3-none-any.whl (821 kB)\n",
      "\u001b[K     |████████████████████████████████| 821 kB 101.7 MB/s eta 0:00:01\n",
      "\u001b[?25hRequirement already satisfied: datasets in /User/.pythonlibs/jupyter-davids/lib/python3.7/site-packages (from -r requirements.txt (line 8)) (2.8.0)\n",
      "Requirement already satisfied: plotly==5.11.0 in /User/.pythonlibs/jupyter-davids/lib/python3.7/site-packages (from -r requirements.txt (line 9)) (5.11.0)\n",
      "Requirement already satisfied: onnx in /User/.pythonlibs/jupyter-davids/lib/python3.7/site-packages (from -r requirements.txt (line 10)) (1.13.0)\n",
      "Requirement already satisfied: onnxruntime in /User/.pythonlibs/jupyter-davids/lib/python3.7/site-packages (from -r requirements.txt (line 11)) (1.13.1)\n",
      "Requirement already satisfied: mergedeep~=1.3 in /User/.pythonlibs/jupyter-davids/lib/python3.7/site-packages (from mlrun==1.3.0rc14->-r requirements.txt (line 1)) (1.3.4)\n",
      "Requirement already satisfied: orjson~=3.3 in /User/.pythonlibs/jupyter-davids/lib/python3.7/site-packages (from mlrun==1.3.0rc14->-r requirements.txt (line 1)) (3.8.5)\n",
      "Requirement already satisfied: semver~=2.13 in /User/.pythonlibs/jupyter-davids/lib/python3.7/site-packages (from mlrun==1.3.0rc14->-r requirements.txt (line 1)) (2.13.0)\n",
      "Requirement already satisfied: sqlalchemy~=1.3 in /conda/lib/python3.7/site-packages (from mlrun==1.3.0rc14->-r requirements.txt (line 1)) (1.3.19)\n",
      "Requirement already satisfied: tabulate~=0.8.6 in /User/.pythonlibs/jupyter-davids/lib/python3.7/site-packages (from mlrun==1.3.0rc14->-r requirements.txt (line 1)) (0.8.10)\n",
      "Requirement already satisfied: cryptography<3.4,~=3.0 in /User/.pythonlibs/jupyter-davids/lib/python3.7/site-packages (from mlrun==1.3.0rc14->-r requirements.txt (line 1)) (3.3.2)\n",
      "Requirement already satisfied: kubernetes~=12.0 in /User/.pythonlibs/jupyter-davids/lib/python3.7/site-packages (from mlrun==1.3.0rc14->-r requirements.txt (line 1)) (12.0.1)\n",
      "Requirement already satisfied: protobuf<3.20,>=3.13 in /User/.pythonlibs/jupyter-davids/lib/python3.7/site-packages (from mlrun==1.3.0rc14->-r requirements.txt (line 1)) (3.19.6)\n",
      "Requirement already satisfied: storey~=1.3.7 in /User/.pythonlibs/jupyter-davids/lib/python3.7/site-packages (from mlrun==1.3.0rc14->-r requirements.txt (line 1)) (1.3.8)\n",
      "Requirement already satisfied: v3io-frames~=0.10.2 in /conda/lib/python3.7/site-packages (from mlrun==1.3.0rc14->-r requirements.txt (line 1)) (0.10.2)\n",
      "Requirement already satisfied: v3iofs~=0.1.15 in /User/.pythonlibs/jupyter-davids/lib/python3.7/site-packages (from mlrun==1.3.0rc14->-r requirements.txt (line 1)) (0.1.15)\n",
      "Requirement already satisfied: pymysql~=1.0 in /User/.pythonlibs/jupyter-davids/lib/python3.7/site-packages (from mlrun==1.3.0rc14->-r requirements.txt (line 1)) (1.0.2)\n",
      "Requirement already satisfied: click~=8.0.0 in /conda/lib/python3.7/site-packages (from mlrun==1.3.0rc14->-r requirements.txt (line 1)) (8.0.4)\n",
      "Requirement already satisfied: chardet<4.0,>=3.0.2 in /conda/lib/python3.7/site-packages (from mlrun==1.3.0rc14->-r requirements.txt (line 1)) (3.0.4)\n",
      "Requirement already satisfied: GitPython~=3.0 in /conda/lib/python3.7/site-packages (from mlrun==1.3.0rc14->-r requirements.txt (line 1)) (3.1.27)\n",
      "Requirement already satisfied: urllib3<1.27,>=1.25.4 in /conda/lib/python3.7/site-packages (from mlrun==1.3.0rc14->-r requirements.txt (line 1)) (1.25.11)\n",
      "Requirement already satisfied: inflection~=0.5.0 in /User/.pythonlibs/jupyter-davids/lib/python3.7/site-packages (from mlrun==1.3.0rc14->-r requirements.txt (line 1)) (0.5.1)\n",
      "Requirement already satisfied: humanfriendly~=8.2 in /User/.pythonlibs/jupyter-davids/lib/python3.7/site-packages (from mlrun==1.3.0rc14->-r requirements.txt (line 1)) (8.2)\n",
      "Requirement already satisfied: aiohttp~=3.8 in /conda/lib/python3.7/site-packages (from mlrun==1.3.0rc14->-r requirements.txt (line 1)) (3.8.1)\n",
      "Requirement already satisfied: ipython~=7.0 in /conda/lib/python3.7/site-packages (from mlrun==1.3.0rc14->-r requirements.txt (line 1)) (7.16.1)\n",
      "Requirement already satisfied: nest-asyncio~=1.0 in /conda/lib/python3.7/site-packages (from mlrun==1.3.0rc14->-r requirements.txt (line 1)) (1.5.5)\n",
      "Requirement already satisfied: fastapi~=0.88.0 in /User/.pythonlibs/jupyter-davids/lib/python3.7/site-packages (from mlrun==1.3.0rc14->-r requirements.txt (line 1)) (0.88.0)\n",
      "Requirement already satisfied: fsspec~=2021.8.1 in /User/.pythonlibs/jupyter-davids/lib/python3.7/site-packages (from mlrun==1.3.0rc14->-r requirements.txt (line 1)) (2021.8.1)\n",
      "Requirement already satisfied: requests~=2.22 in /conda/lib/python3.7/site-packages (from mlrun==1.3.0rc14->-r requirements.txt (line 1)) (2.24.0)\n",
      "Requirement already satisfied: python-dotenv~=0.17.0 in /User/.pythonlibs/jupyter-davids/lib/python3.7/site-packages (from mlrun==1.3.0rc14->-r requirements.txt (line 1)) (0.17.1)\n",
      "Requirement already satisfied: alembic~=1.9 in /User/.pythonlibs/jupyter-davids/lib/python3.7/site-packages (from mlrun==1.3.0rc14->-r requirements.txt (line 1)) (1.9.2)\n",
      "Requirement already satisfied: pyarrow<7,>=3 in /User/.pythonlibs/jupyter-davids/lib/python3.7/site-packages (from mlrun==1.3.0rc14->-r requirements.txt (line 1)) (6.0.1)\n",
      "Requirement already satisfied: dask~=2021.11.2 in /User/.pythonlibs/jupyter-davids/lib/python3.7/site-packages (from mlrun==1.3.0rc14->-r requirements.txt (line 1)) (2021.11.2)\n",
      "Requirement already satisfied: pyyaml~=5.1 in /conda/lib/python3.7/site-packages (from mlrun==1.3.0rc14->-r requirements.txt (line 1)) (5.3.1)\n",
      "Requirement already satisfied: pydantic~=1.5 in /User/.pythonlibs/jupyter-davids/lib/python3.7/site-packages (from mlrun==1.3.0rc14->-r requirements.txt (line 1)) (1.10.4)\n",
      "Requirement already satisfied: deepdiff~=5.0 in /User/.pythonlibs/jupyter-davids/lib/python3.7/site-packages (from mlrun==1.3.0rc14->-r requirements.txt (line 1)) (5.8.1)\n",
      "Requirement already satisfied: nuclio-jupyter~=0.9.6 in /User/.pythonlibs/jupyter-davids/lib/python3.7/site-packages (from mlrun==1.3.0rc14->-r requirements.txt (line 1)) (0.9.8)\n",
      "Requirement already satisfied: distributed~=2021.11.2 in /User/.pythonlibs/jupyter-davids/lib/python3.7/site-packages (from mlrun==1.3.0rc14->-r requirements.txt (line 1)) (2021.11.2)\n",
      "Requirement already satisfied: aiohttp-retry~=2.8 in /User/.pythonlibs/jupyter-davids/lib/python3.7/site-packages (from mlrun==1.3.0rc14->-r requirements.txt (line 1)) (2.8.3)\n",
      "Requirement already satisfied: v3io~=0.5.20 in /User/.pythonlibs/jupyter-davids/lib/python3.7/site-packages (from mlrun==1.3.0rc14->-r requirements.txt (line 1)) (0.5.20)\n",
      "Requirement already satisfied: python-multipart in /User/.pythonlibs/jupyter-davids/lib/python3.7/site-packages (from gradio->-r requirements.txt (line 2)) (0.0.5)\n",
      "Requirement already satisfied: pydub in /User/.pythonlibs/jupyter-davids/lib/python3.7/site-packages (from gradio->-r requirements.txt (line 2)) (0.25.1)\n",
      "Requirement already satisfied: aiofiles in /User/.pythonlibs/jupyter-davids/lib/python3.7/site-packages (from gradio->-r requirements.txt (line 2)) (22.1.0)\n",
      "Requirement already satisfied: uvicorn in /User/.pythonlibs/jupyter-davids/lib/python3.7/site-packages (from gradio->-r requirements.txt (line 2)) (0.20.0)\n",
      "Requirement already satisfied: websockets>=10.0 in /User/.pythonlibs/jupyter-davids/lib/python3.7/site-packages (from gradio->-r requirements.txt (line 2)) (10.4)\n",
      "Requirement already satisfied: ffmpy in /User/.pythonlibs/jupyter-davids/lib/python3.7/site-packages (from gradio->-r requirements.txt (line 2)) (0.3.0)\n",
      "Requirement already satisfied: jinja2 in /conda/lib/python3.7/site-packages (from gradio->-r requirements.txt (line 2)) (3.0.3)\n",
      "Requirement already satisfied: httpx in /User/.pythonlibs/jupyter-davids/lib/python3.7/site-packages (from gradio->-r requirements.txt (line 2)) (0.23.3)\n",
      "Requirement already satisfied: matplotlib in /conda/lib/python3.7/site-packages (from gradio->-r requirements.txt (line 2)) (3.5.1)\n",
      "Requirement already satisfied: typing-extensions in /conda/lib/python3.7/site-packages (from gradio->-r requirements.txt (line 2)) (4.3.0)\n",
      "Requirement already satisfied: pycryptodome in /User/.pythonlibs/jupyter-davids/lib/python3.7/site-packages (from gradio->-r requirements.txt (line 2)) (3.16.0)\n",
      "Requirement already satisfied: pillow in /conda/lib/python3.7/site-packages (from gradio->-r requirements.txt (line 2)) (9.0.1)\n",
      "Requirement already satisfied: markdown-it-py[linkify,plugins] in /User/.pythonlibs/jupyter-davids/lib/python3.7/site-packages (from gradio->-r requirements.txt (line 2)) (2.1.0)\n",
      "Requirement already satisfied: altair>=4.2.0 in /User/.pythonlibs/jupyter-davids/lib/python3.7/site-packages (from gradio->-r requirements.txt (line 2)) (4.2.0)\n",
      "Requirement already satisfied: markupsafe in /conda/lib/python3.7/site-packages (from gradio->-r requirements.txt (line 2)) (2.1.1)\n",
      "Requirement already satisfied: regex!=2019.12.17 in /User/.pythonlibs/jupyter-davids/lib/python3.7/site-packages (from transformers~=4.26.0->-r requirements.txt (line 3)) (2022.10.31)\n",
      "Requirement already satisfied: filelock in /User/.pythonlibs/jupyter-davids/lib/python3.7/site-packages (from transformers~=4.26.0->-r requirements.txt (line 3)) (3.9.0)\n",
      "Requirement already satisfied: tokenizers!=0.11.3,<0.14,>=0.11.1 in /User/.pythonlibs/jupyter-davids/lib/python3.7/site-packages (from transformers~=4.26.0->-r requirements.txt (line 3)) (0.13.2)\n",
      "Requirement already satisfied: tqdm>=4.27 in /conda/lib/python3.7/site-packages (from transformers~=4.26.0->-r requirements.txt (line 3)) (4.64.0)\n",
      "Requirement already satisfied: huggingface-hub<1.0,>=0.11.0 in /User/.pythonlibs/jupyter-davids/lib/python3.7/site-packages (from transformers~=4.26.0->-r requirements.txt (line 3)) (0.11.1)\n",
      "Requirement already satisfied: importlib-metadata; python_version < \"3.8\" in /conda/lib/python3.7/site-packages (from transformers~=4.26.0->-r requirements.txt (line 3)) (4.11.3)\n",
      "Requirement already satisfied: packaging>=20.0 in /conda/lib/python3.7/site-packages (from transformers~=4.26.0->-r requirements.txt (line 3)) (21.3)\n",
      "Requirement already satisfied: strip-hints<1,>=0.1.8 in /conda/lib/python3.7/site-packages (from kfp~=1.8.13->-r requirements.txt (line 4)) (0.1.8)\n",
      "Requirement already satisfied: cloudpickle<3,>=2.0.0 in /conda/lib/python3.7/site-packages (from kfp~=1.8.13->-r requirements.txt (line 4)) (2.0.0)\n",
      "Requirement already satisfied: uritemplate<4,>=3.0.1 in /User/.pythonlibs/jupyter-davids/lib/python3.7/site-packages (from kfp~=1.8.13->-r requirements.txt (line 4)) (3.0.1)\n",
      "Requirement already satisfied: google-cloud-storage<2,>=1.20.0 in /conda/lib/python3.7/site-packages (from kfp~=1.8.13->-r requirements.txt (line 4)) (1.43.0)\n",
      "Requirement already satisfied: google-api-python-client<2,>=1.7.8 in /User/.pythonlibs/jupyter-davids/lib/python3.7/site-packages (from kfp~=1.8.13->-r requirements.txt (line 4)) (1.12.11)\n",
      "Requirement already satisfied: google-api-core!=2.0.*,!=2.1.*,!=2.2.*,!=2.3.0,<3.0.0dev,>=1.31.5 in /User/.pythonlibs/jupyter-davids/lib/python3.7/site-packages (from kfp~=1.8.13->-r requirements.txt (line 4)) (2.11.0)\n",
      "Requirement already satisfied: absl-py<2,>=0.9 in /conda/lib/python3.7/site-packages (from kfp~=1.8.13->-r requirements.txt (line 4)) (0.15.0)\n",
      "Requirement already satisfied: typer<1.0,>=0.3.2 in /User/.pythonlibs/jupyter-davids/lib/python3.7/site-packages (from kfp~=1.8.13->-r requirements.txt (line 4)) (0.7.0)\n",
      "Requirement already satisfied: kfp-pipeline-spec<0.2.0,>=0.1.14 in /User/.pythonlibs/jupyter-davids/lib/python3.7/site-packages (from kfp~=1.8.13->-r requirements.txt (line 4)) (0.1.16)\n",
      "Requirement already satisfied: requests-toolbelt<1,>=0.8.0 in /conda/lib/python3.7/site-packages (from kfp~=1.8.13->-r requirements.txt (line 4)) (0.9.1)\n",
      "Requirement already satisfied: kfp-server-api<2.0.0,>=1.1.2 in /conda/lib/python3.7/site-packages (from kfp~=1.8.13->-r requirements.txt (line 4)) (1.8.4)\n",
      "Requirement already satisfied: docstring-parser<1,>=0.7.3 in /User/.pythonlibs/jupyter-davids/lib/python3.7/site-packages (from kfp~=1.8.13->-r requirements.txt (line 4)) (0.15)\n",
      "Requirement already satisfied: jsonschema<4,>=3.0.1 in /User/.pythonlibs/jupyter-davids/lib/python3.7/site-packages (from kfp~=1.8.13->-r requirements.txt (line 4)) (3.2.0)\n",
      "Requirement already satisfied: google-auth<2,>=1.6.1 in /conda/lib/python3.7/site-packages (from kfp~=1.8.13->-r requirements.txt (line 4)) (1.28.0)\n",
      "Requirement already satisfied: Deprecated<2,>=1.2.7 in /conda/lib/python3.7/site-packages (from kfp~=1.8.13->-r requirements.txt (line 4)) (1.2.13)\n",
      "Requirement already satisfied: fire<1,>=0.3.1 in /User/.pythonlibs/jupyter-davids/lib/python3.7/site-packages (from kfp~=1.8.13->-r requirements.txt (line 4)) (0.5.0)\n",
      "Requirement already satisfied: python-dateutil>=2.7.3 in /conda/lib/python3.7/site-packages (from pandas~=1.3.5->-r requirements.txt (line 6)) (2.8.2)\n",
      "Requirement already satisfied: pytz>=2017.3 in /conda/lib/python3.7/site-packages (from pandas~=1.3.5->-r requirements.txt (line 6)) (2022.1)\n",
      "Requirement already satisfied: multiprocess in /User/.pythonlibs/jupyter-davids/lib/python3.7/site-packages (from datasets->-r requirements.txt (line 8)) (0.70.14)\n",
      "Requirement already satisfied: xxhash in /User/.pythonlibs/jupyter-davids/lib/python3.7/site-packages (from datasets->-r requirements.txt (line 8)) (3.2.0)\n",
      "Requirement already satisfied: responses<0.19 in /User/.pythonlibs/jupyter-davids/lib/python3.7/site-packages (from datasets->-r requirements.txt (line 8)) (0.18.0)\n",
      "Requirement already satisfied: dill<0.3.7 in /conda/lib/python3.7/site-packages (from datasets->-r requirements.txt (line 8)) (0.3.1.1)\n",
      "Requirement already satisfied: tenacity>=6.2.0 in /User/.pythonlibs/jupyter-davids/lib/python3.7/site-packages (from plotly==5.11.0->-r requirements.txt (line 9)) (8.1.0)\n",
      "Requirement already satisfied: flatbuffers in /User/.pythonlibs/jupyter-davids/lib/python3.7/site-packages (from onnxruntime->-r requirements.txt (line 11)) (23.1.21)\n",
      "Requirement already satisfied: coloredlogs in /User/.pythonlibs/jupyter-davids/lib/python3.7/site-packages (from onnxruntime->-r requirements.txt (line 11)) (15.0.1)\n",
      "Requirement already satisfied: sympy in /conda/lib/python3.7/site-packages (from onnxruntime->-r requirements.txt (line 11)) (1.6.2)\n",
      "Requirement already satisfied: six>=1.4.1 in /conda/lib/python3.7/site-packages (from cryptography<3.4,~=3.0->mlrun==1.3.0rc14->-r requirements.txt (line 1)) (1.12.0)\n",
      "Requirement already satisfied: cffi>=1.12 in /conda/lib/python3.7/site-packages (from cryptography<3.4,~=3.0->mlrun==1.3.0rc14->-r requirements.txt (line 1)) (1.12.2)\n",
      "Requirement already satisfied: certifi>=14.05.14 in /conda/lib/python3.7/site-packages (from kubernetes~=12.0->mlrun==1.3.0rc14->-r requirements.txt (line 1)) (2022.6.15)\n",
      "Requirement already satisfied: websocket-client!=0.40.0,!=0.41.*,!=0.42.*,>=0.32.0 in /conda/lib/python3.7/site-packages (from kubernetes~=12.0->mlrun==1.3.0rc14->-r requirements.txt (line 1)) (0.58.0)\n",
      "Requirement already satisfied: requests-oauthlib in /conda/lib/python3.7/site-packages (from kubernetes~=12.0->mlrun==1.3.0rc14->-r requirements.txt (line 1)) (1.3.0)\n",
      "Requirement already satisfied: grpcio-tools<1.42,>1.34.0 in /conda/lib/python3.7/site-packages (from storey~=1.3.7->mlrun==1.3.0rc14->-r requirements.txt (line 1)) (1.41.1)\n",
      "Requirement already satisfied: grpcio<1.42,>1.34.0 in /conda/lib/python3.7/site-packages (from storey~=1.3.7->mlrun==1.3.0rc14->-r requirements.txt (line 1)) (1.41.1)\n",
      "Requirement already satisfied: googleapis-common-protos>=1.5.3 in /conda/lib/python3.7/site-packages (from v3io-frames~=0.10.2->mlrun==1.3.0rc14->-r requirements.txt (line 1)) (1.56.4)\n",
      "Requirement already satisfied: gitdb<5,>=4.0.1 in /conda/lib/python3.7/site-packages (from GitPython~=3.0->mlrun==1.3.0rc14->-r requirements.txt (line 1)) (4.0.9)\n",
      "Requirement already satisfied: aiosignal>=1.1.2 in /conda/lib/python3.7/site-packages (from aiohttp~=3.8->mlrun==1.3.0rc14->-r requirements.txt (line 1)) (1.2.0)\n",
      "Requirement already satisfied: yarl<2.0,>=1.0 in /conda/lib/python3.7/site-packages (from aiohttp~=3.8->mlrun==1.3.0rc14->-r requirements.txt (line 1)) (1.6.3)\n",
      "Requirement already satisfied: asynctest==0.13.0; python_version < \"3.8\" in /conda/lib/python3.7/site-packages (from aiohttp~=3.8->mlrun==1.3.0rc14->-r requirements.txt (line 1)) (0.13.0)\n",
      "Requirement already satisfied: multidict<7.0,>=4.5 in /conda/lib/python3.7/site-packages (from aiohttp~=3.8->mlrun==1.3.0rc14->-r requirements.txt (line 1)) (5.2.0)\n",
      "Requirement already satisfied: attrs>=17.3.0 in /conda/lib/python3.7/site-packages (from aiohttp~=3.8->mlrun==1.3.0rc14->-r requirements.txt (line 1)) (21.4.0)\n",
      "Requirement already satisfied: async-timeout<5.0,>=4.0.0a3 in /conda/lib/python3.7/site-packages (from aiohttp~=3.8->mlrun==1.3.0rc14->-r requirements.txt (line 1)) (4.0.1)\n",
      "Requirement already satisfied: charset-normalizer<3.0,>=2.0 in /conda/lib/python3.7/site-packages (from aiohttp~=3.8->mlrun==1.3.0rc14->-r requirements.txt (line 1)) (2.0.4)\n",
      "Requirement already satisfied: frozenlist>=1.1.1 in /conda/lib/python3.7/site-packages (from aiohttp~=3.8->mlrun==1.3.0rc14->-r requirements.txt (line 1)) (1.2.0)\n",
      "Requirement already satisfied: traitlets>=4.2 in /conda/lib/python3.7/site-packages (from ipython~=7.0->mlrun==1.3.0rc14->-r requirements.txt (line 1)) (4.3.3)\n",
      "Requirement already satisfied: jedi>=0.10 in /conda/lib/python3.7/site-packages (from ipython~=7.0->mlrun==1.3.0rc14->-r requirements.txt (line 1)) (0.18.1)\n",
      "Requirement already satisfied: prompt-toolkit!=3.0.0,!=3.0.1,<3.1.0,>=2.0.0 in /conda/lib/python3.7/site-packages (from ipython~=7.0->mlrun==1.3.0rc14->-r requirements.txt (line 1)) (3.0.20)\n",
      "Requirement already satisfied: decorator in /conda/lib/python3.7/site-packages (from ipython~=7.0->mlrun==1.3.0rc14->-r requirements.txt (line 1)) (5.1.1)\n",
      "Requirement already satisfied: pygments in /conda/lib/python3.7/site-packages (from ipython~=7.0->mlrun==1.3.0rc14->-r requirements.txt (line 1)) (2.11.2)\n",
      "Requirement already satisfied: pexpect; sys_platform != \"win32\" in /conda/lib/python3.7/site-packages (from ipython~=7.0->mlrun==1.3.0rc14->-r requirements.txt (line 1)) (4.8.0)\n",
      "Requirement already satisfied: backcall in /conda/lib/python3.7/site-packages (from ipython~=7.0->mlrun==1.3.0rc14->-r requirements.txt (line 1)) (0.2.0)\n",
      "Requirement already satisfied: pickleshare in /conda/lib/python3.7/site-packages (from ipython~=7.0->mlrun==1.3.0rc14->-r requirements.txt (line 1)) (0.7.5)\n",
      "Requirement already satisfied: starlette==0.22.0 in /User/.pythonlibs/jupyter-davids/lib/python3.7/site-packages (from fastapi~=0.88.0->mlrun==1.3.0rc14->-r requirements.txt (line 1)) (0.22.0)\n",
      "Requirement already satisfied: idna<3,>=2.5 in /conda/lib/python3.7/site-packages (from requests~=2.22->mlrun==1.3.0rc14->-r requirements.txt (line 1)) (2.8)\n",
      "Requirement already satisfied: Mako in /User/.pythonlibs/jupyter-davids/lib/python3.7/site-packages (from alembic~=1.9->mlrun==1.3.0rc14->-r requirements.txt (line 1)) (1.2.4)\n",
      "Requirement already satisfied: importlib-resources; python_version < \"3.9\" in /conda/lib/python3.7/site-packages (from alembic~=1.9->mlrun==1.3.0rc14->-r requirements.txt (line 1)) (5.2.0)\n",
      "Requirement already satisfied: toolz>=0.8.2 in /conda/lib/python3.7/site-packages (from dask~=2021.11.2->mlrun==1.3.0rc14->-r requirements.txt (line 1)) (0.11.2)\n",
      "Requirement already satisfied: partd>=0.3.10 in /conda/lib/python3.7/site-packages (from dask~=2021.11.2->mlrun==1.3.0rc14->-r requirements.txt (line 1)) (1.2.0)\n",
      "Requirement already satisfied: ordered-set<4.2.0,>=4.1.0 in /User/.pythonlibs/jupyter-davids/lib/python3.7/site-packages (from deepdiff~=5.0->mlrun==1.3.0rc14->-r requirements.txt (line 1)) (4.1.0)\n",
      "Requirement already satisfied: nbconvert>=6.4.5 in /User/.pythonlibs/jupyter-davids/lib/python3.7/site-packages (from nuclio-jupyter~=0.9.6->mlrun==1.3.0rc14->-r requirements.txt (line 1)) (7.2.8)\n",
      "Requirement already satisfied: notebook>=6.4 in /User/.pythonlibs/jupyter-davids/lib/python3.7/site-packages (from nuclio-jupyter~=0.9.6->mlrun==1.3.0rc14->-r requirements.txt (line 1)) (6.5.2)\n",
      "Requirement already satisfied: boto3>=1.9 in /User/.pythonlibs/jupyter-davids/lib/python3.7/site-packages (from nuclio-jupyter~=0.9.6->mlrun==1.3.0rc14->-r requirements.txt (line 1)) (1.17.106)\n",
      "Requirement already satisfied: tblib>=1.6.0 in /conda/lib/python3.7/site-packages (from distributed~=2021.11.2->mlrun==1.3.0rc14->-r requirements.txt (line 1)) (1.7.0)\n",
      "Requirement already satisfied: msgpack>=0.6.0 in /conda/lib/python3.7/site-packages (from distributed~=2021.11.2->mlrun==1.3.0rc14->-r requirements.txt (line 1)) (1.0.3)\n",
      "Requirement already satisfied: psutil>=5.0 in /conda/lib/python3.7/site-packages (from distributed~=2021.11.2->mlrun==1.3.0rc14->-r requirements.txt (line 1)) (5.8.0)\n",
      "Requirement already satisfied: tornado>=5; python_version < \"3.8\" in /conda/lib/python3.7/site-packages (from distributed~=2021.11.2->mlrun==1.3.0rc14->-r requirements.txt (line 1)) (6.1)\n",
      "Requirement already satisfied: sortedcontainers!=2.0.0,!=2.0.1 in /conda/lib/python3.7/site-packages (from distributed~=2021.11.2->mlrun==1.3.0rc14->-r requirements.txt (line 1)) (2.4.0)\n",
      "Requirement already satisfied: zict>=0.1.3 in /conda/lib/python3.7/site-packages (from distributed~=2021.11.2->mlrun==1.3.0rc14->-r requirements.txt (line 1)) (2.1.0)\n",
      "Requirement already satisfied: ujson>=3 in /conda/lib/python3.7/site-packages (from v3io~=0.5.20->mlrun==1.3.0rc14->-r requirements.txt (line 1)) (5.5.0)\n",
      "Requirement already satisfied: future>=0.18.2 in /conda/lib/python3.7/site-packages (from v3io~=0.5.20->mlrun==1.3.0rc14->-r requirements.txt (line 1)) (0.18.2)\n",
      "Requirement already satisfied: h11>=0.8 in /User/.pythonlibs/jupyter-davids/lib/python3.7/site-packages (from uvicorn->gradio->-r requirements.txt (line 2)) (0.14.0)\n",
      "Requirement already satisfied: httpcore<0.17.0,>=0.15.0 in /User/.pythonlibs/jupyter-davids/lib/python3.7/site-packages (from httpx->gradio->-r requirements.txt (line 2)) (0.16.3)\n",
      "Requirement already satisfied: rfc3986[idna2008]<2,>=1.3 in /User/.pythonlibs/jupyter-davids/lib/python3.7/site-packages (from httpx->gradio->-r requirements.txt (line 2)) (1.5.0)\n",
      "Requirement already satisfied: sniffio in /User/.pythonlibs/jupyter-davids/lib/python3.7/site-packages (from httpx->gradio->-r requirements.txt (line 2)) (1.3.0)\n",
      "Requirement already satisfied: cycler>=0.10 in /conda/lib/python3.7/site-packages (from matplotlib->gradio->-r requirements.txt (line 2)) (0.11.0)\n",
      "Requirement already satisfied: pyparsing>=2.2.1 in /conda/lib/python3.7/site-packages (from matplotlib->gradio->-r requirements.txt (line 2)) (3.0.4)\n",
      "Requirement already satisfied: fonttools>=4.22.0 in /conda/lib/python3.7/site-packages (from matplotlib->gradio->-r requirements.txt (line 2)) (4.25.0)\n",
      "Requirement already satisfied: kiwisolver>=1.0.1 in /conda/lib/python3.7/site-packages (from matplotlib->gradio->-r requirements.txt (line 2)) (1.4.2)\n",
      "Requirement already satisfied: mdurl~=0.1 in /User/.pythonlibs/jupyter-davids/lib/python3.7/site-packages (from markdown-it-py[linkify,plugins]->gradio->-r requirements.txt (line 2)) (0.1.2)\n",
      "Requirement already satisfied: linkify-it-py~=1.0; extra == \"linkify\" in /User/.pythonlibs/jupyter-davids/lib/python3.7/site-packages (from markdown-it-py[linkify,plugins]->gradio->-r requirements.txt (line 2)) (1.0.3)\n",
      "Requirement already satisfied: mdit-py-plugins; extra == \"plugins\" in /User/.pythonlibs/jupyter-davids/lib/python3.7/site-packages (from markdown-it-py[linkify,plugins]->gradio->-r requirements.txt (line 2)) (0.3.3)\n",
      "Requirement already satisfied: entrypoints in /conda/lib/python3.7/site-packages (from altair>=4.2.0->gradio->-r requirements.txt (line 2)) (0.4)\n",
      "Requirement already satisfied: zipp>=0.5 in /conda/lib/python3.7/site-packages (from importlib-metadata; python_version < \"3.8\"->transformers~=4.26.0->-r requirements.txt (line 3)) (3.8.0)\n",
      "Requirement already satisfied: wheel in /conda/lib/python3.7/site-packages (from strip-hints<1,>=0.1.8->kfp~=1.8.13->-r requirements.txt (line 4)) (0.33.1)\n",
      "Requirement already satisfied: google-cloud-core<3.0dev,>=1.6.0; python_version >= \"3.6\" in /conda/lib/python3.7/site-packages (from google-cloud-storage<2,>=1.20.0->kfp~=1.8.13->-r requirements.txt (line 4)) (2.2.2)\n",
      "Requirement already satisfied: google-resumable-media<3.0dev,>=1.3.0; python_version >= \"3.6\" in /conda/lib/python3.7/site-packages (from google-cloud-storage<2,>=1.20.0->kfp~=1.8.13->-r requirements.txt (line 4)) (1.3.1)\n",
      "Requirement already satisfied: google-auth-httplib2>=0.0.3 in /User/.pythonlibs/jupyter-davids/lib/python3.7/site-packages (from google-api-python-client<2,>=1.7.8->kfp~=1.8.13->-r requirements.txt (line 4)) (0.1.0)\n",
      "Requirement already satisfied: httplib2<1dev,>=0.15.0 in /User/.pythonlibs/jupyter-davids/lib/python3.7/site-packages (from google-api-python-client<2,>=1.7.8->kfp~=1.8.13->-r requirements.txt (line 4)) (0.21.0)\n",
      "Requirement already satisfied: pyrsistent>=0.14.0 in /conda/lib/python3.7/site-packages (from jsonschema<4,>=3.0.1->kfp~=1.8.13->-r requirements.txt (line 4)) (0.18.0)\n",
      "Requirement already satisfied: rsa<5,>=3.1.4; python_version >= \"3.6\" in /conda/lib/python3.7/site-packages (from google-auth<2,>=1.6.1->kfp~=1.8.13->-r requirements.txt (line 4)) (4.7.2)\n",
      "Requirement already satisfied: cachetools<5.0,>=2.0.0 in /conda/lib/python3.7/site-packages (from google-auth<2,>=1.6.1->kfp~=1.8.13->-r requirements.txt (line 4)) (4.2.2)\n",
      "Requirement already satisfied: pyasn1-modules>=0.2.1 in /conda/lib/python3.7/site-packages (from google-auth<2,>=1.6.1->kfp~=1.8.13->-r requirements.txt (line 4)) (0.2.8)\n",
      "Requirement already satisfied: wrapt<2,>=1.10 in /conda/lib/python3.7/site-packages (from Deprecated<2,>=1.2.7->kfp~=1.8.13->-r requirements.txt (line 4)) (1.13.3)\n",
      "Requirement already satisfied: termcolor in /conda/lib/python3.7/site-packages (from fire<1,>=0.3.1->kfp~=1.8.13->-r requirements.txt (line 4)) (1.1.0)\n",
      "Requirement already satisfied: mpmath>=0.19 in /conda/lib/python3.7/site-packages (from sympy->onnxruntime->-r requirements.txt (line 11)) (1.2.1)\n",
      "Requirement already satisfied: pycparser in /conda/lib/python3.7/site-packages (from cffi>=1.12->cryptography<3.4,~=3.0->mlrun==1.3.0rc14->-r requirements.txt (line 1)) (2.19)\n",
      "Requirement already satisfied: oauthlib>=3.0.0 in /conda/lib/python3.7/site-packages (from requests-oauthlib->kubernetes~=12.0->mlrun==1.3.0rc14->-r requirements.txt (line 1)) (3.1.0)\n",
      "Requirement already satisfied: smmap<6,>=3.0.1 in /conda/lib/python3.7/site-packages (from gitdb<5,>=4.0.1->GitPython~=3.0->mlrun==1.3.0rc14->-r requirements.txt (line 1)) (5.0.0)\n",
      "Requirement already satisfied: ipython-genutils in /conda/lib/python3.7/site-packages (from traitlets>=4.2->ipython~=7.0->mlrun==1.3.0rc14->-r requirements.txt (line 1)) (0.2.0)\n",
      "Requirement already satisfied: parso<0.9.0,>=0.8.0 in /conda/lib/python3.7/site-packages (from jedi>=0.10->ipython~=7.0->mlrun==1.3.0rc14->-r requirements.txt (line 1)) (0.8.3)\n",
      "Requirement already satisfied: wcwidth in /conda/lib/python3.7/site-packages (from prompt-toolkit!=3.0.0,!=3.0.1,<3.1.0,>=2.0.0->ipython~=7.0->mlrun==1.3.0rc14->-r requirements.txt (line 1)) (0.2.5)\n",
      "Requirement already satisfied: ptyprocess>=0.5 in /conda/lib/python3.7/site-packages (from pexpect; sys_platform != \"win32\"->ipython~=7.0->mlrun==1.3.0rc14->-r requirements.txt (line 1)) (0.7.0)\n",
      "Requirement already satisfied: anyio<5,>=3.4.0 in /User/.pythonlibs/jupyter-davids/lib/python3.7/site-packages (from starlette==0.22.0->fastapi~=0.88.0->mlrun==1.3.0rc14->-r requirements.txt (line 1)) (3.6.2)\n",
      "Requirement already satisfied: locket in /conda/lib/python3.7/site-packages (from partd>=0.3.10->dask~=2021.11.2->mlrun==1.3.0rc14->-r requirements.txt (line 1)) (1.0.0)\n",
      "Requirement already satisfied: nbclient>=0.5.0 in /conda/lib/python3.7/site-packages (from nbconvert>=6.4.5->nuclio-jupyter~=0.9.6->mlrun==1.3.0rc14->-r requirements.txt (line 1)) (0.5.1)\n",
      "Requirement already satisfied: nbformat>=5.1 in /conda/lib/python3.7/site-packages (from nbconvert>=6.4.5->nuclio-jupyter~=0.9.6->mlrun==1.3.0rc14->-r requirements.txt (line 1)) (5.3.0)\n",
      "Requirement already satisfied: tinycss2 in /User/.pythonlibs/jupyter-davids/lib/python3.7/site-packages (from nbconvert>=6.4.5->nuclio-jupyter~=0.9.6->mlrun==1.3.0rc14->-r requirements.txt (line 1)) (1.2.1)\n",
      "Requirement already satisfied: jupyterlab-pygments in /conda/lib/python3.7/site-packages (from nbconvert>=6.4.5->nuclio-jupyter~=0.9.6->mlrun==1.3.0rc14->-r requirements.txt (line 1)) (0.1.2)\n",
      "Requirement already satisfied: jupyter-core>=4.7 in /conda/lib/python3.7/site-packages (from nbconvert>=6.4.5->nuclio-jupyter~=0.9.6->mlrun==1.3.0rc14->-r requirements.txt (line 1)) (4.10.0)\n",
      "Requirement already satisfied: defusedxml in /conda/lib/python3.7/site-packages (from nbconvert>=6.4.5->nuclio-jupyter~=0.9.6->mlrun==1.3.0rc14->-r requirements.txt (line 1)) (0.7.1)\n",
      "Requirement already satisfied: pandocfilters>=1.4.1 in /conda/lib/python3.7/site-packages (from nbconvert>=6.4.5->nuclio-jupyter~=0.9.6->mlrun==1.3.0rc14->-r requirements.txt (line 1)) (1.5.0)\n",
      "Requirement already satisfied: bleach in /conda/lib/python3.7/site-packages (from nbconvert>=6.4.5->nuclio-jupyter~=0.9.6->mlrun==1.3.0rc14->-r requirements.txt (line 1)) (4.1.0)\n",
      "Requirement already satisfied: beautifulsoup4 in /conda/lib/python3.7/site-packages (from nbconvert>=6.4.5->nuclio-jupyter~=0.9.6->mlrun==1.3.0rc14->-r requirements.txt (line 1)) (4.8.2)\n",
      "Requirement already satisfied: mistune<3,>=2.0.3 in /User/.pythonlibs/jupyter-davids/lib/python3.7/site-packages (from nbconvert>=6.4.5->nuclio-jupyter~=0.9.6->mlrun==1.3.0rc14->-r requirements.txt (line 1)) (2.0.4)\n",
      "Requirement already satisfied: terminado>=0.8.3 in /conda/lib/python3.7/site-packages (from notebook>=6.4->nuclio-jupyter~=0.9.6->mlrun==1.3.0rc14->-r requirements.txt (line 1)) (0.13.1)\n",
      "Requirement already satisfied: nbclassic>=0.4.7 in /User/.pythonlibs/jupyter-davids/lib/python3.7/site-packages (from notebook>=6.4->nuclio-jupyter~=0.9.6->mlrun==1.3.0rc14->-r requirements.txt (line 1)) (0.5.1)\n",
      "Requirement already satisfied: jupyter-client>=5.3.4 in /conda/lib/python3.7/site-packages (from notebook>=6.4->nuclio-jupyter~=0.9.6->mlrun==1.3.0rc14->-r requirements.txt (line 1)) (7.2.2)\n",
      "Requirement already satisfied: argon2-cffi in /conda/lib/python3.7/site-packages (from notebook>=6.4->nuclio-jupyter~=0.9.6->mlrun==1.3.0rc14->-r requirements.txt (line 1)) (21.3.0)\n",
      "Requirement already satisfied: Send2Trash>=1.8.0 in /conda/lib/python3.7/site-packages (from notebook>=6.4->nuclio-jupyter~=0.9.6->mlrun==1.3.0rc14->-r requirements.txt (line 1)) (1.8.0)\n",
      "Requirement already satisfied: pyzmq>=17 in /conda/lib/python3.7/site-packages (from notebook>=6.4->nuclio-jupyter~=0.9.6->mlrun==1.3.0rc14->-r requirements.txt (line 1)) (22.3.0)\n",
      "Requirement already satisfied: ipykernel in /conda/lib/python3.7/site-packages (from notebook>=6.4->nuclio-jupyter~=0.9.6->mlrun==1.3.0rc14->-r requirements.txt (line 1)) (5.3.4)\n",
      "Requirement already satisfied: prometheus-client in /conda/lib/python3.7/site-packages (from notebook>=6.4->nuclio-jupyter~=0.9.6->mlrun==1.3.0rc14->-r requirements.txt (line 1)) (0.14.1)\n",
      "Requirement already satisfied: botocore<1.21.0,>=1.20.106 in /User/.pythonlibs/jupyter-davids/lib/python3.7/site-packages (from boto3>=1.9->nuclio-jupyter~=0.9.6->mlrun==1.3.0rc14->-r requirements.txt (line 1)) (1.20.106)\n",
      "Requirement already satisfied: jmespath<1.0.0,>=0.7.1 in /User/.pythonlibs/jupyter-davids/lib/python3.7/site-packages (from boto3>=1.9->nuclio-jupyter~=0.9.6->mlrun==1.3.0rc14->-r requirements.txt (line 1)) (0.10.0)\n",
      "Requirement already satisfied: s3transfer<0.5.0,>=0.4.0 in /User/.pythonlibs/jupyter-davids/lib/python3.7/site-packages (from boto3>=1.9->nuclio-jupyter~=0.9.6->mlrun==1.3.0rc14->-r requirements.txt (line 1)) (0.4.2)\n",
      "Requirement already satisfied: heapdict in /conda/lib/python3.7/site-packages (from zict>=0.1.3->distributed~=2021.11.2->mlrun==1.3.0rc14->-r requirements.txt (line 1)) (1.0.1)\n",
      "Requirement already satisfied: uc-micro-py in /User/.pythonlibs/jupyter-davids/lib/python3.7/site-packages (from linkify-it-py~=1.0; extra == \"linkify\"->markdown-it-py[linkify,plugins]->gradio->-r requirements.txt (line 2)) (1.0.1)\n",
      "Requirement already satisfied: google-crc32c<2.0dev,>=1.0; python_version >= \"3.5\" in /conda/lib/python3.7/site-packages (from google-resumable-media<3.0dev,>=1.3.0; python_version >= \"3.6\"->google-cloud-storage<2,>=1.20.0->kfp~=1.8.13->-r requirements.txt (line 4)) (1.1.2)\n",
      "Requirement already satisfied: pyasn1>=0.1.3 in /conda/lib/python3.7/site-packages (from rsa<5,>=3.1.4; python_version >= \"3.6\"->google-auth<2,>=1.6.1->kfp~=1.8.13->-r requirements.txt (line 4)) (0.4.8)\n",
      "Requirement already satisfied: async-generator in /conda/lib/python3.7/site-packages (from nbclient>=0.5.0->nbconvert>=6.4.5->nuclio-jupyter~=0.9.6->mlrun==1.3.0rc14->-r requirements.txt (line 1)) (1.10)\n",
      "Requirement already satisfied: fastjsonschema in /conda/lib/python3.7/site-packages (from nbformat>=5.1->nbconvert>=6.4.5->nuclio-jupyter~=0.9.6->mlrun==1.3.0rc14->-r requirements.txt (line 1)) (2.15.1)\n",
      "Requirement already satisfied: webencodings>=0.4 in /conda/lib/python3.7/site-packages (from tinycss2->nbconvert>=6.4.5->nuclio-jupyter~=0.9.6->mlrun==1.3.0rc14->-r requirements.txt (line 1)) (0.5.1)\n",
      "Requirement already satisfied: soupsieve>=1.2 in /conda/lib/python3.7/site-packages (from beautifulsoup4->nbconvert>=6.4.5->nuclio-jupyter~=0.9.6->mlrun==1.3.0rc14->-r requirements.txt (line 1)) (2.3.1)\n",
      "Requirement already satisfied: notebook-shim>=0.1.0 in /User/.pythonlibs/jupyter-davids/lib/python3.7/site-packages (from nbclassic>=0.4.7->notebook>=6.4->nuclio-jupyter~=0.9.6->mlrun==1.3.0rc14->-r requirements.txt (line 1)) (0.2.2)\n",
      "Requirement already satisfied: jupyter-server>=1.17.0 in /User/.pythonlibs/jupyter-davids/lib/python3.7/site-packages (from nbclassic>=0.4.7->notebook>=6.4->nuclio-jupyter~=0.9.6->mlrun==1.3.0rc14->-r requirements.txt (line 1)) (1.23.5)\n",
      "Requirement already satisfied: argon2-cffi-bindings in /conda/lib/python3.7/site-packages (from argon2-cffi->notebook>=6.4->nuclio-jupyter~=0.9.6->mlrun==1.3.0rc14->-r requirements.txt (line 1)) (21.2.0)\n",
      "Installing collected packages: mlrun, setuptools\n",
      "  Attempting uninstall: mlrun\n",
      "    Found existing installation: mlrun 0.0.0+unstable\n",
      "    Uninstalling mlrun-0.0.0+unstable:\n",
      "      Successfully uninstalled mlrun-0.0.0+unstable\n",
      "  Attempting uninstall: setuptools\n",
      "    Found existing installation: setuptools 65.7.0\n",
      "    Uninstalling setuptools-65.7.0:\n",
      "      Successfully uninstalled setuptools-65.7.0\n",
      "Successfully installed mlrun-1.3.0rc14 setuptools-57.0.0\n"
     ]
    }
   ],
   "source": [
    "!pip install -r requirements.txt"
   ]
  },
  {
   "cell_type": "markdown",
   "id": "e29fe544",
   "metadata": {},
   "source": [
    "<a id=\"define-project\"></a>\n",
    "## Define MLRun project and set all mlrun function\n",
    "\n",
    "You should create, load, or use (get) an **{ref}`MLRun Project <Projects>`** that holds all your functions and assets ([setup.py](./src/setup.py))\n"
   ]
  },
  {
   "cell_type": "code",
   "execution_count": 1,
   "id": "0ef2b059",
   "metadata": {},
   "outputs": [
    {
     "name": "stdout",
     "output_type": "stream",
     "text": [
      "> 2023-02-14 15:32:01,317 [info] loaded project huggingface-demo from MLRun DB\n"
     ]
    }
   ],
   "source": [
    "import mlrun\n",
    "from src.setup import create_and_set_project\n",
    "\n",
    "project = create_and_set_project(name=\"huggingface-demo\")"
   ]
  },
  {
   "cell_type": "markdown",
   "id": "5e356b49",
   "metadata": {},
   "source": [
    "<a id=\"serving-function\"></a>\n",
    "## Create and test the Serving Function"
   ]
  },
  {
   "cell_type": "markdown",
   "id": "16f59212",
   "metadata": {},
   "source": [
    "The serving function is consisted of preprocess functions that transfers the text input into a request for the serving function, and the postprocess function passes the model output into the gradio interface. \n",
    "\n",
    "See the functions in [here](./src/serving.py)"
   ]
  },
  {
   "cell_type": "code",
   "execution_count": 3,
   "id": "896d41bf",
   "metadata": {},
   "outputs": [],
   "source": [
    "serving_function = mlrun.code_to_function(\n",
    "    filename=\"src/onnx_model_server.py\",\n",
    "    name=\"hugging-face-serving\",\n",
    "    kind=\"serving\", \n",
    "    image=\"davesh0812/mlrun:mlrun-huggingface-demo-1\",\n",
    ")"
   ]
  },
  {
   "cell_type": "markdown",
   "id": "0359db24",
   "metadata": {},
   "source": [
    "### Defining our serving graph"
   ]
  },
  {
   "cell_type": "markdown",
   "id": "c0411db6",
   "metadata": {},
   "source": [
    "Setting the serving graph topology with the step order"
   ]
  },
  {
   "cell_type": "code",
   "execution_count": 4,
   "id": "a6672d20",
   "metadata": {},
   "outputs": [],
   "source": [
    "# Set the topology and get the graph object:\n",
    "graph = serving_function.set_topology(\"flow\", engine=\"async\")"
   ]
  },
  {
   "cell_type": "code",
   "execution_count": 5,
   "id": "259bc847",
   "metadata": {},
   "outputs": [
    {
     "data": {
      "image/svg+xml": [
       "<?xml version=\"1.0\" encoding=\"UTF-8\" standalone=\"no\"?>\n",
       "<!DOCTYPE svg PUBLIC \"-//W3C//DTD SVG 1.1//EN\"\n",
       " \"http://www.w3.org/Graphics/SVG/1.1/DTD/svg11.dtd\">\n",
       "<!-- Generated by graphviz version 2.40.1 (20161225.0304)\n",
       " -->\n",
       "<!-- Title: mlrun&#45;flow Pages: 1 -->\n",
       "<svg width=\"642pt\" height=\"44pt\"\n",
       " viewBox=\"0.00 0.00 641.56 44.00\" xmlns=\"http://www.w3.org/2000/svg\" xmlns:xlink=\"http://www.w3.org/1999/xlink\">\n",
       "<g id=\"graph0\" class=\"graph\" transform=\"scale(1 1) rotate(0) translate(4 40)\">\n",
       "<title>mlrun&#45;flow</title>\n",
       "<polygon fill=\"#ffffff\" stroke=\"transparent\" points=\"-4,4 -4,-40 637.5587,-40 637.5587,4 -4,4\"/>\n",
       "<!-- _start -->\n",
       "<g id=\"node1\" class=\"node\">\n",
       "<title>_start</title>\n",
       "<polygon fill=\"#d3d3d3\" stroke=\"#000000\" points=\"38.5476,-.0493 40.698,-.1479 42.8263,-.2953 44.9236,-.4913 46.9815,-.7353 48.9917,-1.0266 50.9463,-1.3645 52.8377,-1.7479 54.6587,-2.1759 56.4025,-2.6472 58.0628,-3.1606 59.634,-3.7147 61.1107,-4.308 62.4882,-4.9388 63.7625,-5.6054 64.9302,-6.3059 65.9882,-7.0385 66.9343,-7.8012 67.7669,-8.5918 68.4849,-9.4082 69.0878,-10.2481 69.5758,-11.1093 69.9496,-11.9894 70.2102,-12.886 70.3595,-13.7965 70.3997,-14.7186 70.3334,-15.6497 70.1636,-16.5873 69.8937,-17.5287 69.5276,-18.4713 69.0691,-19.4127 68.5225,-20.3503 67.8923,-21.2814 67.1831,-22.2035 66.3996,-23.114 65.5464,-24.0106 64.6285,-24.8907 63.6504,-25.7519 62.617,-26.5918 61.5329,-27.4082 60.4024,-28.1988 59.2299,-28.9615 58.0197,-29.6941 56.7755,-30.3946 55.5012,-31.0612 54.2002,-31.692 52.8757,-32.2853 51.5309,-32.8394 50.1684,-33.3528 48.7908,-33.8241 47.4003,-34.2521 45.9989,-34.6355 44.5886,-34.9734 43.1708,-35.2647 41.7472,-35.5087 40.3189,-35.7047 38.8872,-35.8521 37.4531,-35.9507 36.0175,-36 34.5815,-36 33.146,-35.9507 31.7119,-35.8521 30.2801,-35.7047 28.8519,-35.5087 27.4282,-35.2647 26.0105,-34.9734 24.6001,-34.6355 23.1988,-34.2521 21.8083,-33.8241 20.4306,-33.3528 19.0681,-32.8394 17.7233,-32.2853 16.3989,-31.692 15.0979,-31.0612 13.8236,-30.3946 12.5794,-29.6941 11.3691,-28.9615 10.1967,-28.1988 9.0662,-27.4082 7.982,-26.5918 6.9486,-25.7519 5.9706,-24.8907 5.0526,-24.0106 4.1995,-23.114 3.4159,-22.2035 2.7067,-21.2814 2.0765,-20.3503 1.53,-19.4127 1.0715,-18.4713 .7053,-17.5287 .4355,-16.5873 .2657,-15.6497 .1993,-14.7186 .2395,-13.7965 .3888,-12.886 .6495,-11.9894 1.0232,-11.1093 1.5112,-10.2481 2.1141,-9.4082 2.8321,-8.5918 3.6647,-7.8012 4.6109,-7.0385 5.6689,-6.3059 6.8365,-5.6054 8.1108,-4.9388 9.4884,-4.308 10.9651,-3.7147 12.5362,-3.1606 14.1966,-2.6472 15.9404,-2.1759 17.7614,-1.7479 19.6528,-1.3645 21.6074,-1.0266 23.6176,-.7353 25.6755,-.4913 27.7728,-.2953 29.901,-.1479 32.0515,-.0493 34.2154,0 36.3837,0 38.5476,-.0493\"/>\n",
       "<text text-anchor=\"middle\" x=\"35.2995\" y=\"-14.3\" font-family=\"Times,serif\" font-size=\"14.00\" fill=\"#000000\">start</text>\n",
       "</g>\n",
       "<!-- preprocess -->\n",
       "<g id=\"node2\" class=\"node\">\n",
       "<title>preprocess</title>\n",
       "<ellipse fill=\"none\" stroke=\"#000000\" cx=\"168.9935\" cy=\"-18\" rx=\"62.2891\" ry=\"18\"/>\n",
       "<text text-anchor=\"middle\" x=\"168.9935\" y=\"-14.3\" font-family=\"Times,serif\" font-size=\"14.00\" fill=\"#000000\">preprocess</text>\n",
       "</g>\n",
       "<!-- _start&#45;&gt;preprocess -->\n",
       "<g id=\"edge1\" class=\"edge\">\n",
       "<title>_start&#45;&gt;preprocess</title>\n",
       "<path fill=\"none\" stroke=\"#000000\" d=\"M69.729,-18C77.9676,-18 87.0729,-18 96.3281,-18\"/>\n",
       "<polygon fill=\"#000000\" stroke=\"#000000\" points=\"96.3959,-21.5001 106.3959,-18 96.3958,-14.5001 96.3959,-21.5001\"/>\n",
       "</g>\n",
       "<!-- sentiment&#45;analysis -->\n",
       "<g id=\"node3\" class=\"node\">\n",
       "<title>sentiment&#45;analysis</title>\n",
       "<ellipse fill=\"none\" stroke=\"#000000\" cx=\"365.5293\" cy=\"-18\" rx=\"98.2828\" ry=\"18\"/>\n",
       "<text text-anchor=\"middle\" x=\"365.5293\" y=\"-14.3\" font-family=\"Times,serif\" font-size=\"14.00\" fill=\"#000000\">sentiment&#45;analysis</text>\n",
       "</g>\n",
       "<!-- preprocess&#45;&gt;sentiment&#45;analysis -->\n",
       "<g id=\"edge2\" class=\"edge\">\n",
       "<title>preprocess&#45;&gt;sentiment&#45;analysis</title>\n",
       "<path fill=\"none\" stroke=\"#000000\" d=\"M231.4487,-18C239.7785,-18 248.5061,-18 257.3418,-18\"/>\n",
       "<polygon fill=\"#000000\" stroke=\"#000000\" points=\"257.348,-21.5001 267.348,-18 257.348,-14.5001 257.348,-21.5001\"/>\n",
       "</g>\n",
       "<!-- postprocess -->\n",
       "<g id=\"node4\" class=\"node\">\n",
       "<title>postprocess</title>\n",
       "<ellipse fill=\"none\" stroke=\"#000000\" cx=\"566.6146\" cy=\"-18\" rx=\"66.8882\" ry=\"18\"/>\n",
       "<text text-anchor=\"middle\" x=\"566.6146\" y=\"-14.3\" font-family=\"Times,serif\" font-size=\"14.00\" fill=\"#000000\">postprocess</text>\n",
       "</g>\n",
       "<!-- sentiment&#45;analysis&#45;&gt;postprocess -->\n",
       "<g id=\"edge3\" class=\"edge\">\n",
       "<title>sentiment&#45;analysis&#45;&gt;postprocess</title>\n",
       "<path fill=\"none\" stroke=\"#000000\" d=\"M463.7157,-18C472.3627,-18 481.0331,-18 489.4706,-18\"/>\n",
       "<polygon fill=\"#000000\" stroke=\"#000000\" points=\"489.6299,-21.5001 499.6299,-18 489.6299,-14.5001 489.6299,-21.5001\"/>\n",
       "</g>\n",
       "</g>\n",
       "</svg>\n"
      ],
      "text/plain": [
       "<graphviz.dot.Digraph at 0x7ffa2a9a8e10>"
      ]
     },
     "execution_count": 5,
     "metadata": {},
     "output_type": "execute_result"
    }
   ],
   "source": [
    "# Build the serving graph:\n",
    "graph.to(handler=\"preprocess\", name=\"preprocess\")\\\n",
    "     .to(\"mlrun.frameworks.huggingface.HuggingFaceModelServer\",\n",
    "          name=\"sentiment-analysis\",\n",
    "          task=\"sentiment-analysis\",\n",
    "          model_name=\"distilbert-base-uncased\",\n",
    "          model_class=\"AutoModelForSequenceClassification\",\n",
    "          tokenizer_name=\"distilbert-base-uncased\",\n",
    "          tokenizer_class=\"AutoTokenizer\")\\\n",
    "     .to(handler=\"postprocess\", name=\"postprocess\").respond()\n",
    "\n",
    "# Plot to graph:\n",
    "graph.plot(rankdir='LR')"
   ]
  },
  {
   "cell_type": "code",
   "execution_count": 6,
   "id": "23c2bca1",
   "metadata": {},
   "outputs": [
    {
     "data": {
      "text/plain": [
       "<mlrun.projects.project.MlrunProject at 0x7ffa2ae32a50>"
      ]
     },
     "execution_count": 6,
     "metadata": {},
     "output_type": "execute_result"
    }
   ],
   "source": [
    "# registering the serving \n",
    "project.set_function(serving_function)\n",
    "project.save()"
   ]
  },
  {
   "cell_type": "markdown",
   "id": "a9f2965e",
   "metadata": {},
   "source": [
    "### Simulate the application pipeline locally"
   ]
  },
  {
   "cell_type": "markdown",
   "id": "ee5c3702",
   "metadata": {},
   "source": [
    "Creating a mocking server for testing"
   ]
  },
  {
   "cell_type": "code",
   "execution_count": 7,
   "id": "93ec3d4b",
   "metadata": {},
   "outputs": [
    {
     "name": "stderr",
     "output_type": "stream",
     "text": [
      "Some weights of the model checkpoint at distilbert-base-uncased were not used when initializing DistilBertForSequenceClassification: ['vocab_transform.weight', 'vocab_transform.bias', 'vocab_projector.weight', 'vocab_layer_norm.bias', 'vocab_projector.bias', 'vocab_layer_norm.weight']\n",
      "- This IS expected if you are initializing DistilBertForSequenceClassification from the checkpoint of a model trained on another task or with another architecture (e.g. initializing a BertForSequenceClassification model from a BertForPreTraining model).\n",
      "- This IS NOT expected if you are initializing DistilBertForSequenceClassification from the checkpoint of a model that you expect to be exactly identical (initializing a BertForSequenceClassification model from a BertForSequenceClassification model).\n",
      "Some weights of DistilBertForSequenceClassification were not initialized from the model checkpoint at distilbert-base-uncased and are newly initialized: ['classifier.weight', 'classifier.bias', 'pre_classifier.bias', 'pre_classifier.weight']\n",
      "You should probably TRAIN this model on a down-stream task to be able to use it for predictions and inference.\n"
     ]
    },
    {
     "name": "stdout",
     "output_type": "stream",
     "text": [
      "> 2023-02-14 15:32:13,850 [info] model sentiment-analysis was loaded\n"
     ]
    },
    {
     "data": {
      "text/plain": [
       "['The sentiment is NEGATIVE', 'The prediction score is 0.527084231376648']"
      ]
     },
     "execution_count": 7,
     "metadata": {},
     "output_type": "execute_result"
    }
   ],
   "source": [
    "server = serving_function.to_mock_server()\n",
    "server.test(path='/predict', body= \"i love flying\")"
   ]
  },
  {
   "cell_type": "markdown",
   "id": "f04a994e",
   "metadata": {},
   "source": [
    "<a id=\"deploy-serving\"></a>\n",
    "## Deploy the serving Function"
   ]
  },
  {
   "cell_type": "code",
   "execution_count": 8,
   "id": "9020418a",
   "metadata": {},
   "outputs": [
    {
     "name": "stdout",
     "output_type": "stream",
     "text": [
      "> 2023-02-14 15:32:13,880 [info] Starting remote function deploy\n",
      "2023-02-14 15:32:14  (info) Deploying function\n",
      "2023-02-14 15:32:14  (info) Building\n",
      "2023-02-14 15:32:15  (info) Staging files and preparing base images\n",
      "2023-02-14 15:32:15  (info) Building processor image\n",
      "2023-02-14 15:33:40  (info) Build complete\n",
      "2023-02-14 15:33:54  (info) Function deploy complete\n",
      "> 2023-02-14 15:33:54,525 [info] successfully deployed function: {'internal_invocation_urls': ['nuclio-huggingface-demo-hugging-face-serving.default-tenant.svc.cluster.local:8080'], 'external_invocation_urls': ['huggingface-demo-hugging-face-serving-huggingface-demo.default-tenant.app.cto-office.iguazio-cd1.com/']}\n"
     ]
    }
   ],
   "source": [
    "deployment = project.deploy_function(serving_function)"
   ]
  },
  {
   "cell_type": "markdown",
   "id": "c883b99a",
   "metadata": {},
   "source": [
    "### Gradio front-end"
   ]
  },
  {
   "cell_type": "markdown",
   "id": "3537f869",
   "metadata": {},
   "source": [
    "Gradio is a friendly web interface that we demonstrate here how to use easily for submitting predictions to our real-time pipeline and to get the results as well!\n",
    "\n",
    "For more information, please see [gradio page](https://gradio.app/)"
   ]
  },
  {
   "cell_type": "code",
   "execution_count": 9,
   "id": "634087b0",
   "metadata": {},
   "outputs": [
    {
     "name": "stdout",
     "output_type": "stream",
     "text": [
      "Running on local URL:  http://127.0.0.1:7860\n",
      "Running on public URL: https://9a1b70ae-1adc-46e4.gradio.live\n",
      "\n",
      "This share link expires in 72 hours. For free permanent hosting and GPU upgrades (NEW!), check out Spaces: https://huggingface.co/spaces\n"
     ]
    },
    {
     "data": {
      "text/html": [
       "<div><iframe src=\"https://9a1b70ae-1adc-46e4.gradio.live\" width=\"100%\" height=\"500\" allow=\"autoplay; camera; microphone; clipboard-read; clipboard-write;\" frameborder=\"0\" allowfullscreen></iframe></div>"
      ],
      "text/plain": [
       "<IPython.core.display.HTML object>"
      ]
     },
     "metadata": {},
     "output_type": "display_data"
    }
   ],
   "source": [
    "from src.gradio_front import build_and_launch\n",
    "\n",
    "build_and_launch(url=deployment.outputs['endpoint'])"
   ]
  }
 ],
 "metadata": {
  "kernelspec": {
   "display_name": "Python 3",
   "language": "python",
   "name": "python3"
  },
  "language_info": {
   "codemirror_mode": {
    "name": "ipython",
    "version": 3
   },
   "file_extension": ".py",
   "mimetype": "text/x-python",
   "name": "python",
   "nbconvert_exporter": "python",
   "pygments_lexer": "ipython3",
   "version": "3.7.6"
  }
 },
 "nbformat": 4,
 "nbformat_minor": 5
}
