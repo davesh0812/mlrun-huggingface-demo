{
 "cells": [
  {
   "cell_type": "markdown",
   "id": "1405fc77",
   "metadata": {},
   "source": [
    "# Pipeline Automation\n",
    "\n",
    "**Introduction to MLRun - a**\n",
    "\n",
    "\n",
    "Tutorial steps:\n",
    "- [**Run full workflow with train, optimze & deploy**](#full-workflow)"
   ]
  },
  {
   "cell_type": "code",
   "execution_count": 23,
   "id": "63c04613",
   "metadata": {
    "scrolled": true
   },
   "outputs": [
    {
     "name": "stdout",
     "output_type": "stream",
     "text": [
      "Collecting mlrun==1.3.0rc14\n",
      "  Downloading mlrun-1.3.0rc14-py3-none-any.whl (1.1 MB)\n",
      "\u001b[K     |████████████████████████████████| 1.1 MB 16.0 MB/s eta 0:00:01\n",
      "\u001b[?25hRequirement already satisfied: gradio in /User/.pythonlibs/jupyter-davids/lib/python3.7/site-packages (from -r requirements.txt (line 2)) (3.16.2)\n",
      "Requirement already satisfied: transformers~=4.26.0 in /User/.pythonlibs/jupyter-davids/lib/python3.7/site-packages (from -r requirements.txt (line 3)) (4.26.0)\n",
      "Requirement already satisfied: kfp~=1.8.13 in /User/.pythonlibs/jupyter-davids/lib/python3.7/site-packages (from -r requirements.txt (line 4)) (1.8.13)\n",
      "Requirement already satisfied: numpy~=1.21.6 in /User/.pythonlibs/jupyter-davids/lib/python3.7/site-packages (from -r requirements.txt (line 5)) (1.21.6)\n",
      "Requirement already satisfied: pandas~=1.3.5 in /User/.pythonlibs/jupyter-davids/lib/python3.7/site-packages (from -r requirements.txt (line 6)) (1.3.5)\n",
      "Collecting setuptools~=57.0.0\n",
      "  Downloading setuptools-57.0.0-py3-none-any.whl (821 kB)\n",
      "\u001b[K     |████████████████████████████████| 821 kB 101.7 MB/s eta 0:00:01\n",
      "\u001b[?25hRequirement already satisfied: datasets in /User/.pythonlibs/jupyter-davids/lib/python3.7/site-packages (from -r requirements.txt (line 8)) (2.8.0)\n",
      "Requirement already satisfied: plotly==5.11.0 in /User/.pythonlibs/jupyter-davids/lib/python3.7/site-packages (from -r requirements.txt (line 9)) (5.11.0)\n",
      "Requirement already satisfied: onnx in /User/.pythonlibs/jupyter-davids/lib/python3.7/site-packages (from -r requirements.txt (line 10)) (1.13.0)\n",
      "Requirement already satisfied: onnxruntime in /User/.pythonlibs/jupyter-davids/lib/python3.7/site-packages (from -r requirements.txt (line 11)) (1.13.1)\n",
      "Requirement already satisfied: mergedeep~=1.3 in /User/.pythonlibs/jupyter-davids/lib/python3.7/site-packages (from mlrun==1.3.0rc14->-r requirements.txt (line 1)) (1.3.4)\n",
      "Requirement already satisfied: orjson~=3.3 in /User/.pythonlibs/jupyter-davids/lib/python3.7/site-packages (from mlrun==1.3.0rc14->-r requirements.txt (line 1)) (3.8.5)\n",
      "Requirement already satisfied: semver~=2.13 in /User/.pythonlibs/jupyter-davids/lib/python3.7/site-packages (from mlrun==1.3.0rc14->-r requirements.txt (line 1)) (2.13.0)\n",
      "Requirement already satisfied: sqlalchemy~=1.3 in /conda/lib/python3.7/site-packages (from mlrun==1.3.0rc14->-r requirements.txt (line 1)) (1.3.19)\n",
      "Requirement already satisfied: tabulate~=0.8.6 in /User/.pythonlibs/jupyter-davids/lib/python3.7/site-packages (from mlrun==1.3.0rc14->-r requirements.txt (line 1)) (0.8.10)\n",
      "Requirement already satisfied: cryptography<3.4,~=3.0 in /User/.pythonlibs/jupyter-davids/lib/python3.7/site-packages (from mlrun==1.3.0rc14->-r requirements.txt (line 1)) (3.3.2)\n",
      "Requirement already satisfied: kubernetes~=12.0 in /User/.pythonlibs/jupyter-davids/lib/python3.7/site-packages (from mlrun==1.3.0rc14->-r requirements.txt (line 1)) (12.0.1)\n",
      "Requirement already satisfied: protobuf<3.20,>=3.13 in /User/.pythonlibs/jupyter-davids/lib/python3.7/site-packages (from mlrun==1.3.0rc14->-r requirements.txt (line 1)) (3.19.6)\n",
      "Requirement already satisfied: storey~=1.3.7 in /User/.pythonlibs/jupyter-davids/lib/python3.7/site-packages (from mlrun==1.3.0rc14->-r requirements.txt (line 1)) (1.3.8)\n",
      "Requirement already satisfied: v3io-frames~=0.10.2 in /conda/lib/python3.7/site-packages (from mlrun==1.3.0rc14->-r requirements.txt (line 1)) (0.10.2)\n",
      "Requirement already satisfied: v3iofs~=0.1.15 in /User/.pythonlibs/jupyter-davids/lib/python3.7/site-packages (from mlrun==1.3.0rc14->-r requirements.txt (line 1)) (0.1.15)\n",
      "Requirement already satisfied: pymysql~=1.0 in /User/.pythonlibs/jupyter-davids/lib/python3.7/site-packages (from mlrun==1.3.0rc14->-r requirements.txt (line 1)) (1.0.2)\n",
      "Requirement already satisfied: click~=8.0.0 in /conda/lib/python3.7/site-packages (from mlrun==1.3.0rc14->-r requirements.txt (line 1)) (8.0.4)\n",
      "Requirement already satisfied: chardet<4.0,>=3.0.2 in /conda/lib/python3.7/site-packages (from mlrun==1.3.0rc14->-r requirements.txt (line 1)) (3.0.4)\n",
      "Requirement already satisfied: GitPython~=3.0 in /conda/lib/python3.7/site-packages (from mlrun==1.3.0rc14->-r requirements.txt (line 1)) (3.1.27)\n",
      "Requirement already satisfied: urllib3<1.27,>=1.25.4 in /conda/lib/python3.7/site-packages (from mlrun==1.3.0rc14->-r requirements.txt (line 1)) (1.25.11)\n",
      "Requirement already satisfied: inflection~=0.5.0 in /User/.pythonlibs/jupyter-davids/lib/python3.7/site-packages (from mlrun==1.3.0rc14->-r requirements.txt (line 1)) (0.5.1)\n",
      "Requirement already satisfied: humanfriendly~=8.2 in /User/.pythonlibs/jupyter-davids/lib/python3.7/site-packages (from mlrun==1.3.0rc14->-r requirements.txt (line 1)) (8.2)\n",
      "Requirement already satisfied: aiohttp~=3.8 in /conda/lib/python3.7/site-packages (from mlrun==1.3.0rc14->-r requirements.txt (line 1)) (3.8.1)\n",
      "Requirement already satisfied: ipython~=7.0 in /conda/lib/python3.7/site-packages (from mlrun==1.3.0rc14->-r requirements.txt (line 1)) (7.16.1)\n",
      "Requirement already satisfied: nest-asyncio~=1.0 in /conda/lib/python3.7/site-packages (from mlrun==1.3.0rc14->-r requirements.txt (line 1)) (1.5.5)\n",
      "Requirement already satisfied: fastapi~=0.88.0 in /User/.pythonlibs/jupyter-davids/lib/python3.7/site-packages (from mlrun==1.3.0rc14->-r requirements.txt (line 1)) (0.88.0)\n",
      "Requirement already satisfied: fsspec~=2021.8.1 in /User/.pythonlibs/jupyter-davids/lib/python3.7/site-packages (from mlrun==1.3.0rc14->-r requirements.txt (line 1)) (2021.8.1)\n",
      "Requirement already satisfied: requests~=2.22 in /conda/lib/python3.7/site-packages (from mlrun==1.3.0rc14->-r requirements.txt (line 1)) (2.24.0)\n",
      "Requirement already satisfied: python-dotenv~=0.17.0 in /User/.pythonlibs/jupyter-davids/lib/python3.7/site-packages (from mlrun==1.3.0rc14->-r requirements.txt (line 1)) (0.17.1)\n",
      "Requirement already satisfied: alembic~=1.9 in /User/.pythonlibs/jupyter-davids/lib/python3.7/site-packages (from mlrun==1.3.0rc14->-r requirements.txt (line 1)) (1.9.2)\n",
      "Requirement already satisfied: pyarrow<7,>=3 in /User/.pythonlibs/jupyter-davids/lib/python3.7/site-packages (from mlrun==1.3.0rc14->-r requirements.txt (line 1)) (6.0.1)\n",
      "Requirement already satisfied: dask~=2021.11.2 in /User/.pythonlibs/jupyter-davids/lib/python3.7/site-packages (from mlrun==1.3.0rc14->-r requirements.txt (line 1)) (2021.11.2)\n",
      "Requirement already satisfied: pyyaml~=5.1 in /conda/lib/python3.7/site-packages (from mlrun==1.3.0rc14->-r requirements.txt (line 1)) (5.3.1)\n",
      "Requirement already satisfied: pydantic~=1.5 in /User/.pythonlibs/jupyter-davids/lib/python3.7/site-packages (from mlrun==1.3.0rc14->-r requirements.txt (line 1)) (1.10.4)\n",
      "Requirement already satisfied: deepdiff~=5.0 in /User/.pythonlibs/jupyter-davids/lib/python3.7/site-packages (from mlrun==1.3.0rc14->-r requirements.txt (line 1)) (5.8.1)\n",
      "Requirement already satisfied: nuclio-jupyter~=0.9.6 in /User/.pythonlibs/jupyter-davids/lib/python3.7/site-packages (from mlrun==1.3.0rc14->-r requirements.txt (line 1)) (0.9.8)\n",
      "Requirement already satisfied: distributed~=2021.11.2 in /User/.pythonlibs/jupyter-davids/lib/python3.7/site-packages (from mlrun==1.3.0rc14->-r requirements.txt (line 1)) (2021.11.2)\n",
      "Requirement already satisfied: aiohttp-retry~=2.8 in /User/.pythonlibs/jupyter-davids/lib/python3.7/site-packages (from mlrun==1.3.0rc14->-r requirements.txt (line 1)) (2.8.3)\n",
      "Requirement already satisfied: v3io~=0.5.20 in /User/.pythonlibs/jupyter-davids/lib/python3.7/site-packages (from mlrun==1.3.0rc14->-r requirements.txt (line 1)) (0.5.20)\n",
      "Requirement already satisfied: python-multipart in /User/.pythonlibs/jupyter-davids/lib/python3.7/site-packages (from gradio->-r requirements.txt (line 2)) (0.0.5)\n",
      "Requirement already satisfied: pydub in /User/.pythonlibs/jupyter-davids/lib/python3.7/site-packages (from gradio->-r requirements.txt (line 2)) (0.25.1)\n",
      "Requirement already satisfied: aiofiles in /User/.pythonlibs/jupyter-davids/lib/python3.7/site-packages (from gradio->-r requirements.txt (line 2)) (22.1.0)\n",
      "Requirement already satisfied: uvicorn in /User/.pythonlibs/jupyter-davids/lib/python3.7/site-packages (from gradio->-r requirements.txt (line 2)) (0.20.0)\n",
      "Requirement already satisfied: websockets>=10.0 in /User/.pythonlibs/jupyter-davids/lib/python3.7/site-packages (from gradio->-r requirements.txt (line 2)) (10.4)\n",
      "Requirement already satisfied: ffmpy in /User/.pythonlibs/jupyter-davids/lib/python3.7/site-packages (from gradio->-r requirements.txt (line 2)) (0.3.0)\n",
      "Requirement already satisfied: jinja2 in /conda/lib/python3.7/site-packages (from gradio->-r requirements.txt (line 2)) (3.0.3)\n",
      "Requirement already satisfied: httpx in /User/.pythonlibs/jupyter-davids/lib/python3.7/site-packages (from gradio->-r requirements.txt (line 2)) (0.23.3)\n",
      "Requirement already satisfied: matplotlib in /conda/lib/python3.7/site-packages (from gradio->-r requirements.txt (line 2)) (3.5.1)\n",
      "Requirement already satisfied: typing-extensions in /conda/lib/python3.7/site-packages (from gradio->-r requirements.txt (line 2)) (4.3.0)\n",
      "Requirement already satisfied: pycryptodome in /User/.pythonlibs/jupyter-davids/lib/python3.7/site-packages (from gradio->-r requirements.txt (line 2)) (3.16.0)\n",
      "Requirement already satisfied: pillow in /conda/lib/python3.7/site-packages (from gradio->-r requirements.txt (line 2)) (9.0.1)\n",
      "Requirement already satisfied: markdown-it-py[linkify,plugins] in /User/.pythonlibs/jupyter-davids/lib/python3.7/site-packages (from gradio->-r requirements.txt (line 2)) (2.1.0)\n",
      "Requirement already satisfied: altair>=4.2.0 in /User/.pythonlibs/jupyter-davids/lib/python3.7/site-packages (from gradio->-r requirements.txt (line 2)) (4.2.0)\n",
      "Requirement already satisfied: markupsafe in /conda/lib/python3.7/site-packages (from gradio->-r requirements.txt (line 2)) (2.1.1)\n",
      "Requirement already satisfied: regex!=2019.12.17 in /User/.pythonlibs/jupyter-davids/lib/python3.7/site-packages (from transformers~=4.26.0->-r requirements.txt (line 3)) (2022.10.31)\n",
      "Requirement already satisfied: filelock in /User/.pythonlibs/jupyter-davids/lib/python3.7/site-packages (from transformers~=4.26.0->-r requirements.txt (line 3)) (3.9.0)\n",
      "Requirement already satisfied: tokenizers!=0.11.3,<0.14,>=0.11.1 in /User/.pythonlibs/jupyter-davids/lib/python3.7/site-packages (from transformers~=4.26.0->-r requirements.txt (line 3)) (0.13.2)\n",
      "Requirement already satisfied: tqdm>=4.27 in /conda/lib/python3.7/site-packages (from transformers~=4.26.0->-r requirements.txt (line 3)) (4.64.0)\n",
      "Requirement already satisfied: huggingface-hub<1.0,>=0.11.0 in /User/.pythonlibs/jupyter-davids/lib/python3.7/site-packages (from transformers~=4.26.0->-r requirements.txt (line 3)) (0.11.1)\n",
      "Requirement already satisfied: importlib-metadata; python_version < \"3.8\" in /conda/lib/python3.7/site-packages (from transformers~=4.26.0->-r requirements.txt (line 3)) (4.11.3)\n",
      "Requirement already satisfied: packaging>=20.0 in /conda/lib/python3.7/site-packages (from transformers~=4.26.0->-r requirements.txt (line 3)) (21.3)\n",
      "Requirement already satisfied: strip-hints<1,>=0.1.8 in /conda/lib/python3.7/site-packages (from kfp~=1.8.13->-r requirements.txt (line 4)) (0.1.8)\n",
      "Requirement already satisfied: cloudpickle<3,>=2.0.0 in /conda/lib/python3.7/site-packages (from kfp~=1.8.13->-r requirements.txt (line 4)) (2.0.0)\n",
      "Requirement already satisfied: uritemplate<4,>=3.0.1 in /User/.pythonlibs/jupyter-davids/lib/python3.7/site-packages (from kfp~=1.8.13->-r requirements.txt (line 4)) (3.0.1)\n",
      "Requirement already satisfied: google-cloud-storage<2,>=1.20.0 in /conda/lib/python3.7/site-packages (from kfp~=1.8.13->-r requirements.txt (line 4)) (1.43.0)\n",
      "Requirement already satisfied: google-api-python-client<2,>=1.7.8 in /User/.pythonlibs/jupyter-davids/lib/python3.7/site-packages (from kfp~=1.8.13->-r requirements.txt (line 4)) (1.12.11)\n",
      "Requirement already satisfied: google-api-core!=2.0.*,!=2.1.*,!=2.2.*,!=2.3.0,<3.0.0dev,>=1.31.5 in /User/.pythonlibs/jupyter-davids/lib/python3.7/site-packages (from kfp~=1.8.13->-r requirements.txt (line 4)) (2.11.0)\n",
      "Requirement already satisfied: absl-py<2,>=0.9 in /conda/lib/python3.7/site-packages (from kfp~=1.8.13->-r requirements.txt (line 4)) (0.15.0)\n",
      "Requirement already satisfied: typer<1.0,>=0.3.2 in /User/.pythonlibs/jupyter-davids/lib/python3.7/site-packages (from kfp~=1.8.13->-r requirements.txt (line 4)) (0.7.0)\n",
      "Requirement already satisfied: kfp-pipeline-spec<0.2.0,>=0.1.14 in /User/.pythonlibs/jupyter-davids/lib/python3.7/site-packages (from kfp~=1.8.13->-r requirements.txt (line 4)) (0.1.16)\n",
      "Requirement already satisfied: requests-toolbelt<1,>=0.8.0 in /conda/lib/python3.7/site-packages (from kfp~=1.8.13->-r requirements.txt (line 4)) (0.9.1)\n",
      "Requirement already satisfied: kfp-server-api<2.0.0,>=1.1.2 in /conda/lib/python3.7/site-packages (from kfp~=1.8.13->-r requirements.txt (line 4)) (1.8.4)\n",
      "Requirement already satisfied: docstring-parser<1,>=0.7.3 in /User/.pythonlibs/jupyter-davids/lib/python3.7/site-packages (from kfp~=1.8.13->-r requirements.txt (line 4)) (0.15)\n",
      "Requirement already satisfied: jsonschema<4,>=3.0.1 in /User/.pythonlibs/jupyter-davids/lib/python3.7/site-packages (from kfp~=1.8.13->-r requirements.txt (line 4)) (3.2.0)\n",
      "Requirement already satisfied: google-auth<2,>=1.6.1 in /conda/lib/python3.7/site-packages (from kfp~=1.8.13->-r requirements.txt (line 4)) (1.28.0)\n",
      "Requirement already satisfied: Deprecated<2,>=1.2.7 in /conda/lib/python3.7/site-packages (from kfp~=1.8.13->-r requirements.txt (line 4)) (1.2.13)\n",
      "Requirement already satisfied: fire<1,>=0.3.1 in /User/.pythonlibs/jupyter-davids/lib/python3.7/site-packages (from kfp~=1.8.13->-r requirements.txt (line 4)) (0.5.0)\n",
      "Requirement already satisfied: python-dateutil>=2.7.3 in /conda/lib/python3.7/site-packages (from pandas~=1.3.5->-r requirements.txt (line 6)) (2.8.2)\n",
      "Requirement already satisfied: pytz>=2017.3 in /conda/lib/python3.7/site-packages (from pandas~=1.3.5->-r requirements.txt (line 6)) (2022.1)\n",
      "Requirement already satisfied: multiprocess in /User/.pythonlibs/jupyter-davids/lib/python3.7/site-packages (from datasets->-r requirements.txt (line 8)) (0.70.14)\n",
      "Requirement already satisfied: xxhash in /User/.pythonlibs/jupyter-davids/lib/python3.7/site-packages (from datasets->-r requirements.txt (line 8)) (3.2.0)\n",
      "Requirement already satisfied: responses<0.19 in /User/.pythonlibs/jupyter-davids/lib/python3.7/site-packages (from datasets->-r requirements.txt (line 8)) (0.18.0)\n",
      "Requirement already satisfied: dill<0.3.7 in /conda/lib/python3.7/site-packages (from datasets->-r requirements.txt (line 8)) (0.3.1.1)\n",
      "Requirement already satisfied: tenacity>=6.2.0 in /User/.pythonlibs/jupyter-davids/lib/python3.7/site-packages (from plotly==5.11.0->-r requirements.txt (line 9)) (8.1.0)\n",
      "Requirement already satisfied: flatbuffers in /User/.pythonlibs/jupyter-davids/lib/python3.7/site-packages (from onnxruntime->-r requirements.txt (line 11)) (23.1.21)\n",
      "Requirement already satisfied: coloredlogs in /User/.pythonlibs/jupyter-davids/lib/python3.7/site-packages (from onnxruntime->-r requirements.txt (line 11)) (15.0.1)\n",
      "Requirement already satisfied: sympy in /conda/lib/python3.7/site-packages (from onnxruntime->-r requirements.txt (line 11)) (1.6.2)\n",
      "Requirement already satisfied: six>=1.4.1 in /conda/lib/python3.7/site-packages (from cryptography<3.4,~=3.0->mlrun==1.3.0rc14->-r requirements.txt (line 1)) (1.12.0)\n",
      "Requirement already satisfied: cffi>=1.12 in /conda/lib/python3.7/site-packages (from cryptography<3.4,~=3.0->mlrun==1.3.0rc14->-r requirements.txt (line 1)) (1.12.2)\n",
      "Requirement already satisfied: certifi>=14.05.14 in /conda/lib/python3.7/site-packages (from kubernetes~=12.0->mlrun==1.3.0rc14->-r requirements.txt (line 1)) (2022.6.15)\n",
      "Requirement already satisfied: websocket-client!=0.40.0,!=0.41.*,!=0.42.*,>=0.32.0 in /conda/lib/python3.7/site-packages (from kubernetes~=12.0->mlrun==1.3.0rc14->-r requirements.txt (line 1)) (0.58.0)\n",
      "Requirement already satisfied: requests-oauthlib in /conda/lib/python3.7/site-packages (from kubernetes~=12.0->mlrun==1.3.0rc14->-r requirements.txt (line 1)) (1.3.0)\n",
      "Requirement already satisfied: grpcio-tools<1.42,>1.34.0 in /conda/lib/python3.7/site-packages (from storey~=1.3.7->mlrun==1.3.0rc14->-r requirements.txt (line 1)) (1.41.1)\n",
      "Requirement already satisfied: grpcio<1.42,>1.34.0 in /conda/lib/python3.7/site-packages (from storey~=1.3.7->mlrun==1.3.0rc14->-r requirements.txt (line 1)) (1.41.1)\n",
      "Requirement already satisfied: googleapis-common-protos>=1.5.3 in /conda/lib/python3.7/site-packages (from v3io-frames~=0.10.2->mlrun==1.3.0rc14->-r requirements.txt (line 1)) (1.56.4)\n",
      "Requirement already satisfied: gitdb<5,>=4.0.1 in /conda/lib/python3.7/site-packages (from GitPython~=3.0->mlrun==1.3.0rc14->-r requirements.txt (line 1)) (4.0.9)\n",
      "Requirement already satisfied: aiosignal>=1.1.2 in /conda/lib/python3.7/site-packages (from aiohttp~=3.8->mlrun==1.3.0rc14->-r requirements.txt (line 1)) (1.2.0)\n",
      "Requirement already satisfied: yarl<2.0,>=1.0 in /conda/lib/python3.7/site-packages (from aiohttp~=3.8->mlrun==1.3.0rc14->-r requirements.txt (line 1)) (1.6.3)\n",
      "Requirement already satisfied: asynctest==0.13.0; python_version < \"3.8\" in /conda/lib/python3.7/site-packages (from aiohttp~=3.8->mlrun==1.3.0rc14->-r requirements.txt (line 1)) (0.13.0)\n",
      "Requirement already satisfied: multidict<7.0,>=4.5 in /conda/lib/python3.7/site-packages (from aiohttp~=3.8->mlrun==1.3.0rc14->-r requirements.txt (line 1)) (5.2.0)\n",
      "Requirement already satisfied: attrs>=17.3.0 in /conda/lib/python3.7/site-packages (from aiohttp~=3.8->mlrun==1.3.0rc14->-r requirements.txt (line 1)) (21.4.0)\n",
      "Requirement already satisfied: async-timeout<5.0,>=4.0.0a3 in /conda/lib/python3.7/site-packages (from aiohttp~=3.8->mlrun==1.3.0rc14->-r requirements.txt (line 1)) (4.0.1)\n",
      "Requirement already satisfied: charset-normalizer<3.0,>=2.0 in /conda/lib/python3.7/site-packages (from aiohttp~=3.8->mlrun==1.3.0rc14->-r requirements.txt (line 1)) (2.0.4)\n",
      "Requirement already satisfied: frozenlist>=1.1.1 in /conda/lib/python3.7/site-packages (from aiohttp~=3.8->mlrun==1.3.0rc14->-r requirements.txt (line 1)) (1.2.0)\n",
      "Requirement already satisfied: traitlets>=4.2 in /conda/lib/python3.7/site-packages (from ipython~=7.0->mlrun==1.3.0rc14->-r requirements.txt (line 1)) (4.3.3)\n",
      "Requirement already satisfied: jedi>=0.10 in /conda/lib/python3.7/site-packages (from ipython~=7.0->mlrun==1.3.0rc14->-r requirements.txt (line 1)) (0.18.1)\n",
      "Requirement already satisfied: prompt-toolkit!=3.0.0,!=3.0.1,<3.1.0,>=2.0.0 in /conda/lib/python3.7/site-packages (from ipython~=7.0->mlrun==1.3.0rc14->-r requirements.txt (line 1)) (3.0.20)\n",
      "Requirement already satisfied: decorator in /conda/lib/python3.7/site-packages (from ipython~=7.0->mlrun==1.3.0rc14->-r requirements.txt (line 1)) (5.1.1)\n",
      "Requirement already satisfied: pygments in /conda/lib/python3.7/site-packages (from ipython~=7.0->mlrun==1.3.0rc14->-r requirements.txt (line 1)) (2.11.2)\n",
      "Requirement already satisfied: pexpect; sys_platform != \"win32\" in /conda/lib/python3.7/site-packages (from ipython~=7.0->mlrun==1.3.0rc14->-r requirements.txt (line 1)) (4.8.0)\n",
      "Requirement already satisfied: backcall in /conda/lib/python3.7/site-packages (from ipython~=7.0->mlrun==1.3.0rc14->-r requirements.txt (line 1)) (0.2.0)\n",
      "Requirement already satisfied: pickleshare in /conda/lib/python3.7/site-packages (from ipython~=7.0->mlrun==1.3.0rc14->-r requirements.txt (line 1)) (0.7.5)\n",
      "Requirement already satisfied: starlette==0.22.0 in /User/.pythonlibs/jupyter-davids/lib/python3.7/site-packages (from fastapi~=0.88.0->mlrun==1.3.0rc14->-r requirements.txt (line 1)) (0.22.0)\n",
      "Requirement already satisfied: idna<3,>=2.5 in /conda/lib/python3.7/site-packages (from requests~=2.22->mlrun==1.3.0rc14->-r requirements.txt (line 1)) (2.8)\n",
      "Requirement already satisfied: Mako in /User/.pythonlibs/jupyter-davids/lib/python3.7/site-packages (from alembic~=1.9->mlrun==1.3.0rc14->-r requirements.txt (line 1)) (1.2.4)\n",
      "Requirement already satisfied: importlib-resources; python_version < \"3.9\" in /conda/lib/python3.7/site-packages (from alembic~=1.9->mlrun==1.3.0rc14->-r requirements.txt (line 1)) (5.2.0)\n",
      "Requirement already satisfied: toolz>=0.8.2 in /conda/lib/python3.7/site-packages (from dask~=2021.11.2->mlrun==1.3.0rc14->-r requirements.txt (line 1)) (0.11.2)\n",
      "Requirement already satisfied: partd>=0.3.10 in /conda/lib/python3.7/site-packages (from dask~=2021.11.2->mlrun==1.3.0rc14->-r requirements.txt (line 1)) (1.2.0)\n",
      "Requirement already satisfied: ordered-set<4.2.0,>=4.1.0 in /User/.pythonlibs/jupyter-davids/lib/python3.7/site-packages (from deepdiff~=5.0->mlrun==1.3.0rc14->-r requirements.txt (line 1)) (4.1.0)\n",
      "Requirement already satisfied: nbconvert>=6.4.5 in /User/.pythonlibs/jupyter-davids/lib/python3.7/site-packages (from nuclio-jupyter~=0.9.6->mlrun==1.3.0rc14->-r requirements.txt (line 1)) (7.2.8)\n",
      "Requirement already satisfied: notebook>=6.4 in /User/.pythonlibs/jupyter-davids/lib/python3.7/site-packages (from nuclio-jupyter~=0.9.6->mlrun==1.3.0rc14->-r requirements.txt (line 1)) (6.5.2)\n",
      "Requirement already satisfied: boto3>=1.9 in /User/.pythonlibs/jupyter-davids/lib/python3.7/site-packages (from nuclio-jupyter~=0.9.6->mlrun==1.3.0rc14->-r requirements.txt (line 1)) (1.17.106)\n",
      "Requirement already satisfied: tblib>=1.6.0 in /conda/lib/python3.7/site-packages (from distributed~=2021.11.2->mlrun==1.3.0rc14->-r requirements.txt (line 1)) (1.7.0)\n",
      "Requirement already satisfied: msgpack>=0.6.0 in /conda/lib/python3.7/site-packages (from distributed~=2021.11.2->mlrun==1.3.0rc14->-r requirements.txt (line 1)) (1.0.3)\n",
      "Requirement already satisfied: psutil>=5.0 in /conda/lib/python3.7/site-packages (from distributed~=2021.11.2->mlrun==1.3.0rc14->-r requirements.txt (line 1)) (5.8.0)\n",
      "Requirement already satisfied: tornado>=5; python_version < \"3.8\" in /conda/lib/python3.7/site-packages (from distributed~=2021.11.2->mlrun==1.3.0rc14->-r requirements.txt (line 1)) (6.1)\n",
      "Requirement already satisfied: sortedcontainers!=2.0.0,!=2.0.1 in /conda/lib/python3.7/site-packages (from distributed~=2021.11.2->mlrun==1.3.0rc14->-r requirements.txt (line 1)) (2.4.0)\n",
      "Requirement already satisfied: zict>=0.1.3 in /conda/lib/python3.7/site-packages (from distributed~=2021.11.2->mlrun==1.3.0rc14->-r requirements.txt (line 1)) (2.1.0)\n",
      "Requirement already satisfied: ujson>=3 in /conda/lib/python3.7/site-packages (from v3io~=0.5.20->mlrun==1.3.0rc14->-r requirements.txt (line 1)) (5.5.0)\n",
      "Requirement already satisfied: future>=0.18.2 in /conda/lib/python3.7/site-packages (from v3io~=0.5.20->mlrun==1.3.0rc14->-r requirements.txt (line 1)) (0.18.2)\n",
      "Requirement already satisfied: h11>=0.8 in /User/.pythonlibs/jupyter-davids/lib/python3.7/site-packages (from uvicorn->gradio->-r requirements.txt (line 2)) (0.14.0)\n",
      "Requirement already satisfied: httpcore<0.17.0,>=0.15.0 in /User/.pythonlibs/jupyter-davids/lib/python3.7/site-packages (from httpx->gradio->-r requirements.txt (line 2)) (0.16.3)\n",
      "Requirement already satisfied: rfc3986[idna2008]<2,>=1.3 in /User/.pythonlibs/jupyter-davids/lib/python3.7/site-packages (from httpx->gradio->-r requirements.txt (line 2)) (1.5.0)\n",
      "Requirement already satisfied: sniffio in /User/.pythonlibs/jupyter-davids/lib/python3.7/site-packages (from httpx->gradio->-r requirements.txt (line 2)) (1.3.0)\n",
      "Requirement already satisfied: cycler>=0.10 in /conda/lib/python3.7/site-packages (from matplotlib->gradio->-r requirements.txt (line 2)) (0.11.0)\n",
      "Requirement already satisfied: pyparsing>=2.2.1 in /conda/lib/python3.7/site-packages (from matplotlib->gradio->-r requirements.txt (line 2)) (3.0.4)\n",
      "Requirement already satisfied: fonttools>=4.22.0 in /conda/lib/python3.7/site-packages (from matplotlib->gradio->-r requirements.txt (line 2)) (4.25.0)\n",
      "Requirement already satisfied: kiwisolver>=1.0.1 in /conda/lib/python3.7/site-packages (from matplotlib->gradio->-r requirements.txt (line 2)) (1.4.2)\n",
      "Requirement already satisfied: mdurl~=0.1 in /User/.pythonlibs/jupyter-davids/lib/python3.7/site-packages (from markdown-it-py[linkify,plugins]->gradio->-r requirements.txt (line 2)) (0.1.2)\n",
      "Requirement already satisfied: linkify-it-py~=1.0; extra == \"linkify\" in /User/.pythonlibs/jupyter-davids/lib/python3.7/site-packages (from markdown-it-py[linkify,plugins]->gradio->-r requirements.txt (line 2)) (1.0.3)\n",
      "Requirement already satisfied: mdit-py-plugins; extra == \"plugins\" in /User/.pythonlibs/jupyter-davids/lib/python3.7/site-packages (from markdown-it-py[linkify,plugins]->gradio->-r requirements.txt (line 2)) (0.3.3)\n",
      "Requirement already satisfied: entrypoints in /conda/lib/python3.7/site-packages (from altair>=4.2.0->gradio->-r requirements.txt (line 2)) (0.4)\n",
      "Requirement already satisfied: zipp>=0.5 in /conda/lib/python3.7/site-packages (from importlib-metadata; python_version < \"3.8\"->transformers~=4.26.0->-r requirements.txt (line 3)) (3.8.0)\n",
      "Requirement already satisfied: wheel in /conda/lib/python3.7/site-packages (from strip-hints<1,>=0.1.8->kfp~=1.8.13->-r requirements.txt (line 4)) (0.33.1)\n",
      "Requirement already satisfied: google-cloud-core<3.0dev,>=1.6.0; python_version >= \"3.6\" in /conda/lib/python3.7/site-packages (from google-cloud-storage<2,>=1.20.0->kfp~=1.8.13->-r requirements.txt (line 4)) (2.2.2)\n",
      "Requirement already satisfied: google-resumable-media<3.0dev,>=1.3.0; python_version >= \"3.6\" in /conda/lib/python3.7/site-packages (from google-cloud-storage<2,>=1.20.0->kfp~=1.8.13->-r requirements.txt (line 4)) (1.3.1)\n",
      "Requirement already satisfied: google-auth-httplib2>=0.0.3 in /User/.pythonlibs/jupyter-davids/lib/python3.7/site-packages (from google-api-python-client<2,>=1.7.8->kfp~=1.8.13->-r requirements.txt (line 4)) (0.1.0)\n",
      "Requirement already satisfied: httplib2<1dev,>=0.15.0 in /User/.pythonlibs/jupyter-davids/lib/python3.7/site-packages (from google-api-python-client<2,>=1.7.8->kfp~=1.8.13->-r requirements.txt (line 4)) (0.21.0)\n",
      "Requirement already satisfied: pyrsistent>=0.14.0 in /conda/lib/python3.7/site-packages (from jsonschema<4,>=3.0.1->kfp~=1.8.13->-r requirements.txt (line 4)) (0.18.0)\n",
      "Requirement already satisfied: rsa<5,>=3.1.4; python_version >= \"3.6\" in /conda/lib/python3.7/site-packages (from google-auth<2,>=1.6.1->kfp~=1.8.13->-r requirements.txt (line 4)) (4.7.2)\n",
      "Requirement already satisfied: cachetools<5.0,>=2.0.0 in /conda/lib/python3.7/site-packages (from google-auth<2,>=1.6.1->kfp~=1.8.13->-r requirements.txt (line 4)) (4.2.2)\n",
      "Requirement already satisfied: pyasn1-modules>=0.2.1 in /conda/lib/python3.7/site-packages (from google-auth<2,>=1.6.1->kfp~=1.8.13->-r requirements.txt (line 4)) (0.2.8)\n",
      "Requirement already satisfied: wrapt<2,>=1.10 in /conda/lib/python3.7/site-packages (from Deprecated<2,>=1.2.7->kfp~=1.8.13->-r requirements.txt (line 4)) (1.13.3)\n",
      "Requirement already satisfied: termcolor in /conda/lib/python3.7/site-packages (from fire<1,>=0.3.1->kfp~=1.8.13->-r requirements.txt (line 4)) (1.1.0)\n",
      "Requirement already satisfied: mpmath>=0.19 in /conda/lib/python3.7/site-packages (from sympy->onnxruntime->-r requirements.txt (line 11)) (1.2.1)\n",
      "Requirement already satisfied: pycparser in /conda/lib/python3.7/site-packages (from cffi>=1.12->cryptography<3.4,~=3.0->mlrun==1.3.0rc14->-r requirements.txt (line 1)) (2.19)\n",
      "Requirement already satisfied: oauthlib>=3.0.0 in /conda/lib/python3.7/site-packages (from requests-oauthlib->kubernetes~=12.0->mlrun==1.3.0rc14->-r requirements.txt (line 1)) (3.1.0)\n",
      "Requirement already satisfied: smmap<6,>=3.0.1 in /conda/lib/python3.7/site-packages (from gitdb<5,>=4.0.1->GitPython~=3.0->mlrun==1.3.0rc14->-r requirements.txt (line 1)) (5.0.0)\n",
      "Requirement already satisfied: ipython-genutils in /conda/lib/python3.7/site-packages (from traitlets>=4.2->ipython~=7.0->mlrun==1.3.0rc14->-r requirements.txt (line 1)) (0.2.0)\n",
      "Requirement already satisfied: parso<0.9.0,>=0.8.0 in /conda/lib/python3.7/site-packages (from jedi>=0.10->ipython~=7.0->mlrun==1.3.0rc14->-r requirements.txt (line 1)) (0.8.3)\n",
      "Requirement already satisfied: wcwidth in /conda/lib/python3.7/site-packages (from prompt-toolkit!=3.0.0,!=3.0.1,<3.1.0,>=2.0.0->ipython~=7.0->mlrun==1.3.0rc14->-r requirements.txt (line 1)) (0.2.5)\n",
      "Requirement already satisfied: ptyprocess>=0.5 in /conda/lib/python3.7/site-packages (from pexpect; sys_platform != \"win32\"->ipython~=7.0->mlrun==1.3.0rc14->-r requirements.txt (line 1)) (0.7.0)\n",
      "Requirement already satisfied: anyio<5,>=3.4.0 in /User/.pythonlibs/jupyter-davids/lib/python3.7/site-packages (from starlette==0.22.0->fastapi~=0.88.0->mlrun==1.3.0rc14->-r requirements.txt (line 1)) (3.6.2)\n",
      "Requirement already satisfied: locket in /conda/lib/python3.7/site-packages (from partd>=0.3.10->dask~=2021.11.2->mlrun==1.3.0rc14->-r requirements.txt (line 1)) (1.0.0)\n",
      "Requirement already satisfied: nbclient>=0.5.0 in /conda/lib/python3.7/site-packages (from nbconvert>=6.4.5->nuclio-jupyter~=0.9.6->mlrun==1.3.0rc14->-r requirements.txt (line 1)) (0.5.1)\n",
      "Requirement already satisfied: nbformat>=5.1 in /conda/lib/python3.7/site-packages (from nbconvert>=6.4.5->nuclio-jupyter~=0.9.6->mlrun==1.3.0rc14->-r requirements.txt (line 1)) (5.3.0)\n",
      "Requirement already satisfied: tinycss2 in /User/.pythonlibs/jupyter-davids/lib/python3.7/site-packages (from nbconvert>=6.4.5->nuclio-jupyter~=0.9.6->mlrun==1.3.0rc14->-r requirements.txt (line 1)) (1.2.1)\n",
      "Requirement already satisfied: jupyterlab-pygments in /conda/lib/python3.7/site-packages (from nbconvert>=6.4.5->nuclio-jupyter~=0.9.6->mlrun==1.3.0rc14->-r requirements.txt (line 1)) (0.1.2)\n",
      "Requirement already satisfied: jupyter-core>=4.7 in /conda/lib/python3.7/site-packages (from nbconvert>=6.4.5->nuclio-jupyter~=0.9.6->mlrun==1.3.0rc14->-r requirements.txt (line 1)) (4.10.0)\n",
      "Requirement already satisfied: defusedxml in /conda/lib/python3.7/site-packages (from nbconvert>=6.4.5->nuclio-jupyter~=0.9.6->mlrun==1.3.0rc14->-r requirements.txt (line 1)) (0.7.1)\n",
      "Requirement already satisfied: pandocfilters>=1.4.1 in /conda/lib/python3.7/site-packages (from nbconvert>=6.4.5->nuclio-jupyter~=0.9.6->mlrun==1.3.0rc14->-r requirements.txt (line 1)) (1.5.0)\n",
      "Requirement already satisfied: bleach in /conda/lib/python3.7/site-packages (from nbconvert>=6.4.5->nuclio-jupyter~=0.9.6->mlrun==1.3.0rc14->-r requirements.txt (line 1)) (4.1.0)\n",
      "Requirement already satisfied: beautifulsoup4 in /conda/lib/python3.7/site-packages (from nbconvert>=6.4.5->nuclio-jupyter~=0.9.6->mlrun==1.3.0rc14->-r requirements.txt (line 1)) (4.8.2)\n",
      "Requirement already satisfied: mistune<3,>=2.0.3 in /User/.pythonlibs/jupyter-davids/lib/python3.7/site-packages (from nbconvert>=6.4.5->nuclio-jupyter~=0.9.6->mlrun==1.3.0rc14->-r requirements.txt (line 1)) (2.0.4)\n",
      "Requirement already satisfied: terminado>=0.8.3 in /conda/lib/python3.7/site-packages (from notebook>=6.4->nuclio-jupyter~=0.9.6->mlrun==1.3.0rc14->-r requirements.txt (line 1)) (0.13.1)\n",
      "Requirement already satisfied: nbclassic>=0.4.7 in /User/.pythonlibs/jupyter-davids/lib/python3.7/site-packages (from notebook>=6.4->nuclio-jupyter~=0.9.6->mlrun==1.3.0rc14->-r requirements.txt (line 1)) (0.5.1)\n",
      "Requirement already satisfied: jupyter-client>=5.3.4 in /conda/lib/python3.7/site-packages (from notebook>=6.4->nuclio-jupyter~=0.9.6->mlrun==1.3.0rc14->-r requirements.txt (line 1)) (7.2.2)\n",
      "Requirement already satisfied: argon2-cffi in /conda/lib/python3.7/site-packages (from notebook>=6.4->nuclio-jupyter~=0.9.6->mlrun==1.3.0rc14->-r requirements.txt (line 1)) (21.3.0)\n",
      "Requirement already satisfied: Send2Trash>=1.8.0 in /conda/lib/python3.7/site-packages (from notebook>=6.4->nuclio-jupyter~=0.9.6->mlrun==1.3.0rc14->-r requirements.txt (line 1)) (1.8.0)\n",
      "Requirement already satisfied: pyzmq>=17 in /conda/lib/python3.7/site-packages (from notebook>=6.4->nuclio-jupyter~=0.9.6->mlrun==1.3.0rc14->-r requirements.txt (line 1)) (22.3.0)\n",
      "Requirement already satisfied: ipykernel in /conda/lib/python3.7/site-packages (from notebook>=6.4->nuclio-jupyter~=0.9.6->mlrun==1.3.0rc14->-r requirements.txt (line 1)) (5.3.4)\n",
      "Requirement already satisfied: prometheus-client in /conda/lib/python3.7/site-packages (from notebook>=6.4->nuclio-jupyter~=0.9.6->mlrun==1.3.0rc14->-r requirements.txt (line 1)) (0.14.1)\n",
      "Requirement already satisfied: botocore<1.21.0,>=1.20.106 in /User/.pythonlibs/jupyter-davids/lib/python3.7/site-packages (from boto3>=1.9->nuclio-jupyter~=0.9.6->mlrun==1.3.0rc14->-r requirements.txt (line 1)) (1.20.106)\n",
      "Requirement already satisfied: jmespath<1.0.0,>=0.7.1 in /User/.pythonlibs/jupyter-davids/lib/python3.7/site-packages (from boto3>=1.9->nuclio-jupyter~=0.9.6->mlrun==1.3.0rc14->-r requirements.txt (line 1)) (0.10.0)\n",
      "Requirement already satisfied: s3transfer<0.5.0,>=0.4.0 in /User/.pythonlibs/jupyter-davids/lib/python3.7/site-packages (from boto3>=1.9->nuclio-jupyter~=0.9.6->mlrun==1.3.0rc14->-r requirements.txt (line 1)) (0.4.2)\n",
      "Requirement already satisfied: heapdict in /conda/lib/python3.7/site-packages (from zict>=0.1.3->distributed~=2021.11.2->mlrun==1.3.0rc14->-r requirements.txt (line 1)) (1.0.1)\n",
      "Requirement already satisfied: uc-micro-py in /User/.pythonlibs/jupyter-davids/lib/python3.7/site-packages (from linkify-it-py~=1.0; extra == \"linkify\"->markdown-it-py[linkify,plugins]->gradio->-r requirements.txt (line 2)) (1.0.1)\n",
      "Requirement already satisfied: google-crc32c<2.0dev,>=1.0; python_version >= \"3.5\" in /conda/lib/python3.7/site-packages (from google-resumable-media<3.0dev,>=1.3.0; python_version >= \"3.6\"->google-cloud-storage<2,>=1.20.0->kfp~=1.8.13->-r requirements.txt (line 4)) (1.1.2)\n",
      "Requirement already satisfied: pyasn1>=0.1.3 in /conda/lib/python3.7/site-packages (from rsa<5,>=3.1.4; python_version >= \"3.6\"->google-auth<2,>=1.6.1->kfp~=1.8.13->-r requirements.txt (line 4)) (0.4.8)\n",
      "Requirement already satisfied: async-generator in /conda/lib/python3.7/site-packages (from nbclient>=0.5.0->nbconvert>=6.4.5->nuclio-jupyter~=0.9.6->mlrun==1.3.0rc14->-r requirements.txt (line 1)) (1.10)\n",
      "Requirement already satisfied: fastjsonschema in /conda/lib/python3.7/site-packages (from nbformat>=5.1->nbconvert>=6.4.5->nuclio-jupyter~=0.9.6->mlrun==1.3.0rc14->-r requirements.txt (line 1)) (2.15.1)\n",
      "Requirement already satisfied: webencodings>=0.4 in /conda/lib/python3.7/site-packages (from tinycss2->nbconvert>=6.4.5->nuclio-jupyter~=0.9.6->mlrun==1.3.0rc14->-r requirements.txt (line 1)) (0.5.1)\n",
      "Requirement already satisfied: soupsieve>=1.2 in /conda/lib/python3.7/site-packages (from beautifulsoup4->nbconvert>=6.4.5->nuclio-jupyter~=0.9.6->mlrun==1.3.0rc14->-r requirements.txt (line 1)) (2.3.1)\n",
      "Requirement already satisfied: notebook-shim>=0.1.0 in /User/.pythonlibs/jupyter-davids/lib/python3.7/site-packages (from nbclassic>=0.4.7->notebook>=6.4->nuclio-jupyter~=0.9.6->mlrun==1.3.0rc14->-r requirements.txt (line 1)) (0.2.2)\n",
      "Requirement already satisfied: jupyter-server>=1.17.0 in /User/.pythonlibs/jupyter-davids/lib/python3.7/site-packages (from nbclassic>=0.4.7->notebook>=6.4->nuclio-jupyter~=0.9.6->mlrun==1.3.0rc14->-r requirements.txt (line 1)) (1.23.5)\n",
      "Requirement already satisfied: argon2-cffi-bindings in /conda/lib/python3.7/site-packages (from argon2-cffi->notebook>=6.4->nuclio-jupyter~=0.9.6->mlrun==1.3.0rc14->-r requirements.txt (line 1)) (21.2.0)\n",
      "Installing collected packages: mlrun, setuptools\n",
      "  Attempting uninstall: mlrun\n",
      "    Found existing installation: mlrun 0.0.0+unstable\n",
      "    Uninstalling mlrun-0.0.0+unstable:\n",
      "      Successfully uninstalled mlrun-0.0.0+unstable\n",
      "  Attempting uninstall: setuptools\n",
      "    Found existing installation: setuptools 65.7.0\n",
      "    Uninstalling setuptools-65.7.0:\n",
      "      Successfully uninstalled setuptools-65.7.0\n",
      "Successfully installed mlrun-1.3.0rc14 setuptools-57.0.0\n"
     ]
    }
   ],
   "source": [
    "!pip install -r requirements.txt"
   ]
  },
  {
   "cell_type": "markdown",
   "id": "14d07443",
   "metadata": {},
   "source": [
    "<a id=\"define-project\"></a>\n",
    "## Define MLRun project and set all mlrun function\n",
    "\n",
    "You should create, load, or use (get) an **{ref}`MLRun Project <Projects>`** that holds all your functions and assets ([setup.py](./src/setup.py))\n"
   ]
  },
  {
   "cell_type": "code",
   "execution_count": 1,
   "id": "75ce973c",
   "metadata": {},
   "outputs": [
    {
     "name": "stdout",
     "output_type": "stream",
     "text": [
      "> 2023-02-14 15:55:27,315 [info] loaded project huggingface-demo from MLRun DB\n"
     ]
    }
   ],
   "source": [
    "from src.setup import create_and_set_project\n",
    "\n",
    "project = create_and_set_project(name=\"huggingface-demo\")"
   ]
  },
  {
   "cell_type": "markdown",
   "id": "cf274a9e",
   "metadata": {},
   "source": [
    "<a id=\"full-workflow\"></a>\n",
    "## Run full workflow with train, optimze & deploy\n",
    "\n",
    "You should use `project.set_workflow()` for load your workflow into the project, and when you can run it by using `project.run()` while the param name is key.\n"
   ]
  },
  {
   "cell_type": "code",
   "execution_count": 2,
   "id": "dff2b3f9",
   "metadata": {},
   "outputs": [
    {
     "data": {
      "text/plain": [
       "<mlrun.projects.project.MlrunProject at 0x7fab17871b50>"
      ]
     },
     "execution_count": 2,
     "metadata": {},
     "output_type": "execute_result"
    }
   ],
   "source": [
    "# Register the workflow file:\n",
    "workflow_name = \"training_workflow\"\n",
    "project.set_workflow(workflow_name, \"src/training_workflow.py\")\n",
    "\n",
    "# Save the project:\n",
    "project.save()"
   ]
  },
  {
   "cell_type": "code",
   "execution_count": 3,
   "id": "31c5b5f5",
   "metadata": {},
   "outputs": [
    {
     "data": {
      "text/html": [
       "<div>Pipeline running (id=66826303-e1ad-4a8d-a123-923ae26ae97b), <a href=\"https://dashboard.default-tenant.app.cto-office.iguazio-cd1.com/mlprojects/huggingface-demo/jobs/monitor-workflows/workflow/66826303-e1ad-4a8d-a123-923ae26ae97b\" target=\"_blank\"><b>click here</b></a> to view the details in MLRun UI</div>"
      ],
      "text/plain": [
       "<IPython.core.display.HTML object>"
      ]
     },
     "metadata": {},
     "output_type": "display_data"
    },
    {
     "data": {
      "image/svg+xml": [
       "<?xml version=\"1.0\" encoding=\"UTF-8\" standalone=\"no\"?>\n",
       "<!DOCTYPE svg PUBLIC \"-//W3C//DTD SVG 1.1//EN\"\n",
       " \"http://www.w3.org/Graphics/SVG/1.1/DTD/svg11.dtd\">\n",
       "<!-- Generated by graphviz version 2.40.1 (20161225.0304)\n",
       " -->\n",
       "<!-- Title: kfp Pages: 1 -->\n",
       "<svg width=\"207pt\" height=\"332pt\"\n",
       " viewBox=\"0.00 0.00 206.74 332.00\" xmlns=\"http://www.w3.org/2000/svg\" xmlns:xlink=\"http://www.w3.org/1999/xlink\">\n",
       "<g id=\"graph0\" class=\"graph\" transform=\"scale(1 1) rotate(0) translate(4 328)\">\n",
       "<title>kfp</title>\n",
       "<polygon fill=\"#ffffff\" stroke=\"transparent\" points=\"-4,4 -4,-328 202.7376,-328 202.7376,4 -4,4\"/>\n",
       "<!-- sentiment&#45;analysis&#45;pipeline&#45;tvlfg&#45;2180713532 -->\n",
       "<g id=\"node1\" class=\"node\">\n",
       "<title>sentiment&#45;analysis&#45;pipeline&#45;tvlfg&#45;2180713532</title>\n",
       "<polygon fill=\"#00ff00\" stroke=\"#000000\" points=\"186.8437,-108 68.8437,-108 64.8437,-104 64.8437,-72 182.8437,-72 186.8437,-76 186.8437,-108\"/>\n",
       "<polyline fill=\"none\" stroke=\"#000000\" points=\"182.8437,-104 64.8437,-104 \"/>\n",
       "<polyline fill=\"none\" stroke=\"#000000\" points=\"182.8437,-104 182.8437,-72 \"/>\n",
       "<polyline fill=\"none\" stroke=\"#000000\" points=\"182.8437,-104 186.8437,-108 \"/>\n",
       "<text text-anchor=\"middle\" x=\"125.8437\" y=\"-86.3\" font-family=\"Times,serif\" font-size=\"14.00\" fill=\"#000000\">deploy&#45;serving</text>\n",
       "</g>\n",
       "<!-- sentiment&#45;analysis&#45;pipeline&#45;tvlfg&#45;2916565455 -->\n",
       "<g id=\"node2\" class=\"node\">\n",
       "<title>sentiment&#45;analysis&#45;pipeline&#45;tvlfg&#45;2916565455</title>\n",
       "<ellipse fill=\"#00ff00\" stroke=\"#000000\" cx=\"76.8437\" cy=\"-18\" rx=\"71.4873\" ry=\"18\"/>\n",
       "<text text-anchor=\"middle\" x=\"76.8437\" y=\"-14.3\" font-family=\"Times,serif\" font-size=\"14.00\" fill=\"#000000\">server&#45;tester</text>\n",
       "</g>\n",
       "<!-- sentiment&#45;analysis&#45;pipeline&#45;tvlfg&#45;2180713532&#45;&gt;sentiment&#45;analysis&#45;pipeline&#45;tvlfg&#45;2916565455 -->\n",
       "<g id=\"edge1\" class=\"edge\">\n",
       "<title>sentiment&#45;analysis&#45;pipeline&#45;tvlfg&#45;2180713532&#45;&gt;sentiment&#45;analysis&#45;pipeline&#45;tvlfg&#45;2916565455</title>\n",
       "<path fill=\"none\" stroke=\"#000000\" d=\"M113.4789,-71.8314C107.8069,-63.497 100.974,-53.4567 94.7534,-44.3162\"/>\n",
       "<polygon fill=\"#000000\" stroke=\"#000000\" points=\"97.5546,-42.2114 89.0348,-35.9134 91.7676,-46.1498 97.5546,-42.2114\"/>\n",
       "</g>\n",
       "<!-- sentiment&#45;analysis&#45;pipeline&#45;tvlfg&#45;2209398708 -->\n",
       "<g id=\"node3\" class=\"node\">\n",
       "<title>sentiment&#45;analysis&#45;pipeline&#45;tvlfg&#45;2209398708</title>\n",
       "<ellipse fill=\"#00ff00\" stroke=\"#000000\" cx=\"118.8437\" cy=\"-234\" rx=\"48.1917\" ry=\"18\"/>\n",
       "<text text-anchor=\"middle\" x=\"118.8437\" y=\"-230.3\" font-family=\"Times,serif\" font-size=\"14.00\" fill=\"#000000\">training</text>\n",
       "</g>\n",
       "<!-- sentiment&#45;analysis&#45;pipeline&#45;tvlfg&#45;2435426603 -->\n",
       "<g id=\"node4\" class=\"node\">\n",
       "<title>sentiment&#45;analysis&#45;pipeline&#45;tvlfg&#45;2435426603</title>\n",
       "<ellipse fill=\"#00ff00\" stroke=\"#000000\" cx=\"129.8437\" cy=\"-162\" rx=\"68.7879\" ry=\"18\"/>\n",
       "<text text-anchor=\"middle\" x=\"129.8437\" y=\"-158.3\" font-family=\"Times,serif\" font-size=\"14.00\" fill=\"#000000\">optimization</text>\n",
       "</g>\n",
       "<!-- sentiment&#45;analysis&#45;pipeline&#45;tvlfg&#45;2209398708&#45;&gt;sentiment&#45;analysis&#45;pipeline&#45;tvlfg&#45;2435426603 -->\n",
       "<g id=\"edge2\" class=\"edge\">\n",
       "<title>sentiment&#45;analysis&#45;pipeline&#45;tvlfg&#45;2209398708&#45;&gt;sentiment&#45;analysis&#45;pipeline&#45;tvlfg&#45;2435426603</title>\n",
       "<path fill=\"none\" stroke=\"#000000\" d=\"M121.6195,-215.8314C122.7959,-208.131 124.1949,-198.9743 125.5023,-190.4166\"/>\n",
       "<polygon fill=\"#000000\" stroke=\"#000000\" points=\"128.9801,-190.8272 127.0306,-180.4133 122.0604,-189.7699 128.9801,-190.8272\"/>\n",
       "</g>\n",
       "<!-- sentiment&#45;analysis&#45;pipeline&#45;tvlfg&#45;2435426603&#45;&gt;sentiment&#45;analysis&#45;pipeline&#45;tvlfg&#45;2180713532 -->\n",
       "<g id=\"edge3\" class=\"edge\">\n",
       "<title>sentiment&#45;analysis&#45;pipeline&#45;tvlfg&#45;2435426603&#45;&gt;sentiment&#45;analysis&#45;pipeline&#45;tvlfg&#45;2180713532</title>\n",
       "<path fill=\"none\" stroke=\"#000000\" d=\"M128.8343,-143.8314C128.4065,-136.131 127.8978,-126.9743 127.4224,-118.4166\"/>\n",
       "<polygon fill=\"#000000\" stroke=\"#000000\" points=\"130.9161,-118.2037 126.8667,-108.4133 123.9269,-118.592 130.9161,-118.2037\"/>\n",
       "</g>\n",
       "<!-- sentiment&#45;analysis&#45;pipeline&#45;tvlfg&#45;3177921224 -->\n",
       "<g id=\"node5\" class=\"node\">\n",
       "<title>sentiment&#45;analysis&#45;pipeline&#45;tvlfg&#45;3177921224</title>\n",
       "<ellipse fill=\"#00ff00\" stroke=\"#000000\" cx=\"70.8437\" cy=\"-306\" rx=\"70.6878\" ry=\"18\"/>\n",
       "<text text-anchor=\"middle\" x=\"70.8437\" y=\"-302.3\" font-family=\"Times,serif\" font-size=\"14.00\" fill=\"#000000\">prepare&#45;data</text>\n",
       "</g>\n",
       "<!-- sentiment&#45;analysis&#45;pipeline&#45;tvlfg&#45;3177921224&#45;&gt;sentiment&#45;analysis&#45;pipeline&#45;tvlfg&#45;2916565455 -->\n",
       "<g id=\"edge5\" class=\"edge\">\n",
       "<title>sentiment&#45;analysis&#45;pipeline&#45;tvlfg&#45;3177921224&#45;&gt;sentiment&#45;analysis&#45;pipeline&#45;tvlfg&#45;2916565455</title>\n",
       "<path fill=\"none\" stroke=\"#000000\" d=\"M66.3258,-287.8406C57.1818,-248.1658 38.7465,-150.9767 55.8437,-72 57.7712,-63.0966 60.963,-53.7346 64.2834,-45.3528\"/>\n",
       "<polygon fill=\"#000000\" stroke=\"#000000\" points=\"67.5446,-46.6259 68.1722,-36.0497 61.0862,-43.9261 67.5446,-46.6259\"/>\n",
       "</g>\n",
       "<!-- sentiment&#45;analysis&#45;pipeline&#45;tvlfg&#45;3177921224&#45;&gt;sentiment&#45;analysis&#45;pipeline&#45;tvlfg&#45;2209398708 -->\n",
       "<g id=\"edge4\" class=\"edge\">\n",
       "<title>sentiment&#45;analysis&#45;pipeline&#45;tvlfg&#45;3177921224&#45;&gt;sentiment&#45;analysis&#45;pipeline&#45;tvlfg&#45;2209398708</title>\n",
       "<path fill=\"none\" stroke=\"#000000\" d=\"M82.7089,-288.2022C88.3472,-279.7448 95.1981,-269.4685 101.4124,-260.147\"/>\n",
       "<polygon fill=\"#000000\" stroke=\"#000000\" points=\"104.4802,-261.855 107.115,-251.593 98.6558,-257.9721 104.4802,-261.855\"/>\n",
       "</g>\n",
       "</g>\n",
       "</svg>\n"
      ],
      "text/plain": [
       "<graphviz.dot.Digraph at 0x7fab24dcfa10>"
      ]
     },
     "metadata": {},
     "output_type": "display_data"
    },
    {
     "data": {
      "text/html": [
       "<h2>Run Results</h2><h3>[info] Workflow 66826303-e1ad-4a8d-a123-923ae26ae97b finished, state=Succeeded</h3><br>click the hyper links below to see detailed results<br><table border=\"1\" class=\"dataframe\">\n",
       "  <thead>\n",
       "    <tr style=\"text-align: right;\">\n",
       "      <th>uid</th>\n",
       "      <th>start</th>\n",
       "      <th>state</th>\n",
       "      <th>name</th>\n",
       "      <th>parameters</th>\n",
       "      <th>results</th>\n",
       "    </tr>\n",
       "  </thead>\n",
       "  <tbody>\n",
       "    <tr>\n",
       "      <td><div title=\"6b6228cde6af49c9ba9c0578000798c5\"><a href=\"https://dashboard.default-tenant.app.cto-office.iguazio-cd1.com/mlprojects/huggingface-demo/jobs/monitor/6b6228cde6af49c9ba9c0578000798c5/overview\" target=\"_blank\" >...000798c5</a></div></td>\n",
       "      <td>Feb 14 15:48:21</td>\n",
       "      <td>completed</td>\n",
       "      <td>server_tester</td>\n",
       "      <td><div class=\"dictlist\">label_column=labels</div><div class=\"dictlist\">endpoint=http://huggingface-demo-serving-huggingface-demo.default-tenant.app.cto-office.iguazio-cd1.com/</div></td>\n",
       "      <td><div class=\"dictlist\">count=100</div><div class=\"dictlist\">error_count=0</div><div class=\"dictlist\">avg_latency=64292</div><div class=\"dictlist\">min_latency=13617</div><div class=\"dictlist\">max_latency=103084</div></td>\n",
       "    </tr>\n",
       "    <tr>\n",
       "      <td><div title=\"6ed656652aea4820ad0322e5cf462a8a\"><a href=\"https://dashboard.default-tenant.app.cto-office.iguazio-cd1.com/mlprojects/huggingface-demo/jobs/monitor/6ed656652aea4820ad0322e5cf462a8a/overview\" target=\"_blank\" >...cf462a8a</a></div></td>\n",
       "      <td>Feb 14 15:44:11</td>\n",
       "      <td>completed</td>\n",
       "      <td>optimization</td>\n",
       "      <td><div class=\"dictlist\">model_path=store://artifacts/huggingface-demo/trained_model:66826303-e1ad-4a8d-a123-923ae26ae97b</div></td>\n",
       "      <td></td>\n",
       "    </tr>\n",
       "    <tr>\n",
       "      <td><div title=\"1fd2c8db1636413a92609d966579d970\"><a href=\"https://dashboard.default-tenant.app.cto-office.iguazio-cd1.com/mlprojects/huggingface-demo/jobs/monitor/1fd2c8db1636413a92609d966579d970/overview\" target=\"_blank\" >...6579d970</a></div></td>\n",
       "      <td>Feb 14 15:35:15</td>\n",
       "      <td>completed</td>\n",
       "      <td>training</td>\n",
       "      <td><div class=\"dictlist\">pretrained_tokenizer=distilbert-base-uncased</div><div class=\"dictlist\">pretrained_model=distilbert-base-uncased</div></td>\n",
       "      <td><div class=\"dictlist\">loss=0.0409</div><div class=\"dictlist\">learning_rate=0.0</div><div class=\"dictlist\">eval_loss=0.1591210961341858</div><div class=\"dictlist\">eval_accuracy=0.9433333333333334</div><div class=\"dictlist\">eval_f1=0.8440366972477065</div><div class=\"dictlist\">eval_runtime=12.4198</div><div class=\"dictlist\">eval_samples_per_second=24.155</div><div class=\"dictlist\">eval_steps_per_second=1.53</div><div class=\"dictlist\">train_runtime=483.4091</div><div class=\"dictlist\">train_samples_per_second=6.206</div><div class=\"dictlist\">train_steps_per_second=0.389</div><div class=\"dictlist\">total_flos=34259380977408.0</div></td>\n",
       "    </tr>\n",
       "    <tr>\n",
       "      <td><div title=\"4ec7c604800a4a4fb6f72c630e756715\"><a href=\"https://dashboard.default-tenant.app.cto-office.iguazio-cd1.com/mlprojects/huggingface-demo/jobs/monitor/4ec7c604800a4a4fb6f72c630e756715/overview\" target=\"_blank\" >...0e756715</a></div></td>\n",
       "      <td>Feb 14 15:34:49</td>\n",
       "      <td>completed</td>\n",
       "      <td>prepare_data</td>\n",
       "      <td><div class=\"dictlist\">dataset_name=Shayanvsf/US_Airline_Sentiment</div></td>\n",
       "      <td></td>\n",
       "    </tr>\n",
       "  </tbody>\n",
       "</table>"
      ],
      "text/plain": [
       "<IPython.core.display.HTML object>"
      ]
     },
     "metadata": {},
     "output_type": "display_data"
    }
   ],
   "source": [
    "workflow_run = project.run(\n",
    "    name=workflow_name,\n",
    "    arguments={\n",
    "        \"dataset_name\": \"Shayanvsf/US_Airline_Sentiment\",\n",
    "        \"pretrained_tokenizer\": \"distilbert-base-uncased\",\n",
    "        \"pretrained_model\": \"distilbert-base-uncased\",\n",
    "    },\n",
    "    watch=True,\n",
    "    dirty=True\n",
    ")"
   ]
  },
  {
   "cell_type": "markdown",
   "id": "ac981cdf",
   "metadata": {},
   "source": [
    "Here we can see how the workflow looks on our UI & Also the result of the trainer and the server_tester"
   ]
  },
  {
   "cell_type": "markdown",
   "id": "476af761",
   "metadata": {},
   "source": [
    "<img src=\"./images/workflow.png\" alt=\"workflow\" width=\"1200\"/>"
   ]
  },
  {
   "cell_type": "markdown",
   "id": "53bd3ae7",
   "metadata": {},
   "source": [
    "<img src=\"./images/latancy.png\" alt=\"latancy\" width=\"1200\"/>"
   ]
  },
  {
   "cell_type": "code",
   "execution_count": 2,
   "id": "5832d381",
   "metadata": {},
   "outputs": [],
   "source": [
    "serving_function = project.get_function(\"serving\")"
   ]
  },
  {
   "cell_type": "code",
   "execution_count": 3,
   "id": "56ad887f",
   "metadata": {},
   "outputs": [
    {
     "name": "stdout",
     "output_type": "stream",
     "text": [
      "> 2023-02-14 15:55:36,832 [info] invoking function: {'method': 'POST', 'path': 'http://nuclio-huggingface-demo-serving.default-tenant.svc.cluster.local:8080/predict'}\n",
      "['The sentiment is POSITIVE', 'The prediction score is 0.4955597519874573']\n"
     ]
    }
   ],
   "source": [
    "body = \"i love flying\"\n",
    "response = serving_function.invoke(path='/predict', body=body)\n",
    "print(response)"
   ]
  },
  {
   "cell_type": "markdown",
   "id": "086c8085",
   "metadata": {},
   "source": [
    "### Gradio front-end"
   ]
  },
  {
   "cell_type": "markdown",
   "id": "9cd23aac",
   "metadata": {},
   "source": [
    "Gradio is a friendly web interface that we demonstrate here how to use easily for submitting predictions to our real-time pipeline and to get the results as well!\n",
    "\n",
    "For more information, please see [gradio page](https://gradio.app/)"
   ]
  },
  {
   "cell_type": "code",
   "execution_count": 4,
   "id": "45aa0926",
   "metadata": {},
   "outputs": [
    {
     "name": "stdout",
     "output_type": "stream",
     "text": [
      "Running on local URL:  http://127.0.0.1:7861\n",
      "Running on public URL: https://1b9b9e54-7af1-4576.gradio.live\n",
      "\n",
      "This share link expires in 72 hours. For free permanent hosting and GPU upgrades (NEW!), check out Spaces: https://huggingface.co/spaces\n"
     ]
    },
    {
     "data": {
      "text/html": [
       "<div><iframe src=\"https://1b9b9e54-7af1-4576.gradio.live\" width=\"100%\" height=\"500\" allow=\"autoplay; camera; microphone; clipboard-read; clipboard-write;\" frameborder=\"0\" allowfullscreen></iframe></div>"
      ],
      "text/plain": [
       "<IPython.core.display.HTML object>"
      ]
     },
     "metadata": {},
     "output_type": "display_data"
    },
    {
     "name": "stdout",
     "output_type": "stream",
     "text": [
      "> 2023-02-14 15:55:59,975 [info] invoking function: {'method': 'POST', 'path': 'http://nuclio-huggingface-demo-serving.default-tenant.svc.cluster.local:8080/predict'}\n"
     ]
    }
   ],
   "source": [
    "from src.gradio_front import build_and_launch\n",
    "\n",
    "build_and_launch(serving_func=serving_function)"
   ]
  }
 ],
 "metadata": {
  "kernelspec": {
   "display_name": "Python 3",
   "language": "python",
   "name": "python3"
  },
  "language_info": {
   "codemirror_mode": {
    "name": "ipython",
    "version": 3
   },
   "file_extension": ".py",
   "mimetype": "text/x-python",
   "name": "python",
   "nbconvert_exporter": "python",
   "pygments_lexer": "ipython3",
   "version": "3.7.6"
  }
 },
 "nbformat": 4,
 "nbformat_minor": 5
}
